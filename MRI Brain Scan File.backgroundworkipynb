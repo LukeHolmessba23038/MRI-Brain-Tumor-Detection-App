{
 "cells": [
  {
   "cell_type": "code",
   "execution_count": 1,
   "id": "51b5506a",
   "metadata": {},
   "outputs": [
    {
     "name": "stdout",
     "output_type": "stream",
     "text": [
      "File extraction complete.\n"
     ]
    }
   ],
   "source": [
    "import zipfile\n",
    "import os\n",
    "\n",
    "# Step 1: Define the path to the zip file\n",
    "zip_file_path = \"Brain MRI DATA.zip\"  # Replace this with the correct file path if necessary\n",
    "extract_dir = \"brain_mri_images/\"  # Directory where files will be extracted\n",
    "\n",
    "# Step 2: Unzip the file\n",
    "with zipfile.ZipFile(zip_file_path, 'r') as zip_ref:\n",
    "    zip_ref.extractall(extract_dir)\n",
    "\n",
    "print(\"File extraction complete.\")\n"
   ]
  },
  {
   "cell_type": "code",
   "execution_count": 2,
   "id": "bbd585dd",
   "metadata": {},
   "outputs": [],
   "source": [
    "import os\n",
    "import numpy as np\n",
    "from PIL import Image\n",
    "from sklearn.model_selection import train_test_split\n",
    "\n",
    "# Step 1: Set paths and image processing parameters\n",
    "image_folder = \"brain_mri_images/\"  # Path to extracted images\n",
    "image_size = (128, 128)  # Standard size to resize images\n",
    "data = []\n",
    "labels = []"
   ]
  },
  {
   "cell_type": "code",
   "execution_count": 3,
   "id": "beca7af2",
   "metadata": {},
   "outputs": [],
   "source": [
    "# Step 2: Loop through image folder and load images from 'no' and 'yes' folders\n",
    "for folder_name in ['no', 'yes']:  # Use 'no' and 'yes' as class labels (no tumor, tumor)\n",
    "    folder_path = os.path.join(image_folder, folder_name)\n",
    "    if os.path.isdir(folder_path):\n",
    "        label = 1 if folder_name == 'yes' else 0  # Assign label 1 for 'yes' (tumor) and 0 for 'no' (no tumor)\n",
    "        for image_file in os.listdir(folder_path):\n",
    "            if image_file.endswith(('jpg', 'jpeg', 'png')):\n",
    "                image_path = os.path.join(folder_path, image_file)\n",
    "                img = Image.open(image_path)\n",
    "                \n",
    "                # Ensure all images are in RGB format\n",
    "                img = img.convert('RGB')\n",
    "                \n",
    "                # Resize the image\n",
    "                img = img.resize(image_size)\n",
    "                \n",
    "                # Convert the image to a numpy array and normalize pixel values to [0, 1]\n",
    "                img_array = np.array(img) / 255.0\n",
    "                \n",
    "                # Append image data and corresponding label (0 for 'no', 1 for 'yes')\n",
    "                data.append(img_array)\n",
    "                labels.append(label)"
   ]
  },
  {
   "cell_type": "code",
   "execution_count": 4,
   "id": "5fc66717",
   "metadata": {},
   "outputs": [
    {
     "name": "stdout",
     "output_type": "stream",
     "text": [
      "Label distribution: {0: 92, 1: 87}\n"
     ]
    }
   ],
   "source": [
    "# Check the distribution of labels (to make sure both classes are present)\n",
    "unique, counts = np.unique(labels, return_counts=True)\n",
    "print(f\"Label distribution: {dict(zip(unique, counts))}\")\n"
   ]
  },
  {
   "cell_type": "code",
   "execution_count": 5,
   "id": "f58ce0dd",
   "metadata": {},
   "outputs": [
    {
     "name": "stdout",
     "output_type": "stream",
     "text": [
      "Data shape: (179, 128, 128, 3)\n",
      "Labels shape: (179,)\n"
     ]
    }
   ],
   "source": [
    "# Step 3: Convert lists to numpy arrays\n",
    "data = np.array(data)\n",
    "labels = np.array(labels)\n",
    "\n",
    "print(\"Data shape:\", data.shape)  # Should be (number of images, 128, 128, 3) if RGB images\n",
    "print(\"Labels shape:\", labels.shape)  # Should be (number of images,)"
   ]
  },
  {
   "cell_type": "code",
   "execution_count": 6,
   "id": "494aa074",
   "metadata": {},
   "outputs": [
    {
     "name": "stdout",
     "output_type": "stream",
     "text": [
      "test_val_data shape: (54, 128, 128, 3)\n",
      "test_val_labels shape: (54,)\n"
     ]
    }
   ],
   "source": [
    "from sklearn.model_selection import train_test_split\n",
    "\n",
    "# Step 1: Split the data into 70% training and 30% for test+validation\n",
    "train_data, test_val_data, train_labels, test_val_labels = train_test_split(\n",
    "    data, labels, test_size=0.30, random_state=42, stratify=labels\n",
    ")\n",
    "\n",
    "# Check the shapes after the first split\n",
    "print(f\"test_val_data shape: {test_val_data.shape}\")\n",
    "print(f\"test_val_labels shape: {test_val_labels.shape}\")"
   ]
  },
  {
   "cell_type": "code",
   "execution_count": 7,
   "id": "803678cc",
   "metadata": {},
   "outputs": [
    {
     "name": "stdout",
     "output_type": "stream",
     "text": [
      "Training data shape: (125, 128, 128, 3)\n",
      "Validation data shape: (27, 128, 128, 3)\n",
      "Test data shape: (27, 128, 128, 3)\n"
     ]
    }
   ],
   "source": [
    "from sklearn.model_selection import train_test_split\n",
    "\n",
    "# Step 1: Split the data into 70% training and 30% for test+validation\n",
    "train_data, test_val_data, train_labels, test_val_labels = train_test_split(\n",
    "    data, labels, test_size=0.30, random_state=42, stratify=labels\n",
    ")\n",
    "\n",
    "# Step 2: Further split test_val_data into validation and test sets (50% each of 30%)\n",
    "val_data, test_data, val_labels, test_labels = train_test_split(\n",
    "    test_val_data, test_val_labels, test_size=0.50, random_state=42, stratify=test_val_labels\n",
    ")\n",
    "\n",
    "# Print the shapes of the datasets\n",
    "print(\"Training data shape:\", train_data.shape)\n",
    "print(\"Validation data shape:\", val_data.shape)\n",
    "print(\"Test data shape:\", test_data.shape)\n"
   ]
  },
  {
   "cell_type": "markdown",
   "id": "5c7941df",
   "metadata": {},
   "source": [
    "Building CNN Model"
   ]
  },
  {
   "cell_type": "code",
   "execution_count": 8,
   "id": "7daba283",
   "metadata": {},
   "outputs": [
    {
     "name": "stderr",
     "output_type": "stream",
     "text": [
      "C:\\Users\\Luke Holmes\\anaconda3\\Lib\\site-packages\\keras\\src\\layers\\convolutional\\base_conv.py:107: UserWarning: Do not pass an `input_shape`/`input_dim` argument to a layer. When using Sequential models, prefer using an `Input(shape)` object as the first layer in the model instead.\n",
      "  super().__init__(activity_regularizer=activity_regularizer, **kwargs)\n"
     ]
    },
    {
     "data": {
      "text/html": [
       "<pre style=\"white-space:pre;overflow-x:auto;line-height:normal;font-family:Menlo,'DejaVu Sans Mono',consolas,'Courier New',monospace\"><span style=\"font-weight: bold\">Model: \"sequential\"</span>\n",
       "</pre>\n"
      ],
      "text/plain": [
       "\u001b[1mModel: \"sequential\"\u001b[0m\n"
      ]
     },
     "metadata": {},
     "output_type": "display_data"
    },
    {
     "data": {
      "text/html": [
       "<pre style=\"white-space:pre;overflow-x:auto;line-height:normal;font-family:Menlo,'DejaVu Sans Mono',consolas,'Courier New',monospace\">┏━━━━━━━━━━━━━━━━━━━━━━━━━━━━━━━━━┳━━━━━━━━━━━━━━━━━━━━━━━━┳━━━━━━━━━━━━━━━┓\n",
       "┃<span style=\"font-weight: bold\"> Layer (type)                    </span>┃<span style=\"font-weight: bold\"> Output Shape           </span>┃<span style=\"font-weight: bold\">       Param # </span>┃\n",
       "┡━━━━━━━━━━━━━━━━━━━━━━━━━━━━━━━━━╇━━━━━━━━━━━━━━━━━━━━━━━━╇━━━━━━━━━━━━━━━┩\n",
       "│ conv2d (<span style=\"color: #0087ff; text-decoration-color: #0087ff\">Conv2D</span>)                 │ (<span style=\"color: #00d7ff; text-decoration-color: #00d7ff\">None</span>, <span style=\"color: #00af00; text-decoration-color: #00af00\">126</span>, <span style=\"color: #00af00; text-decoration-color: #00af00\">126</span>, <span style=\"color: #00af00; text-decoration-color: #00af00\">32</span>)   │           <span style=\"color: #00af00; text-decoration-color: #00af00\">896</span> │\n",
       "├─────────────────────────────────┼────────────────────────┼───────────────┤\n",
       "│ max_pooling2d (<span style=\"color: #0087ff; text-decoration-color: #0087ff\">MaxPooling2D</span>)    │ (<span style=\"color: #00d7ff; text-decoration-color: #00d7ff\">None</span>, <span style=\"color: #00af00; text-decoration-color: #00af00\">63</span>, <span style=\"color: #00af00; text-decoration-color: #00af00\">63</span>, <span style=\"color: #00af00; text-decoration-color: #00af00\">32</span>)     │             <span style=\"color: #00af00; text-decoration-color: #00af00\">0</span> │\n",
       "├─────────────────────────────────┼────────────────────────┼───────────────┤\n",
       "│ conv2d_1 (<span style=\"color: #0087ff; text-decoration-color: #0087ff\">Conv2D</span>)               │ (<span style=\"color: #00d7ff; text-decoration-color: #00d7ff\">None</span>, <span style=\"color: #00af00; text-decoration-color: #00af00\">61</span>, <span style=\"color: #00af00; text-decoration-color: #00af00\">61</span>, <span style=\"color: #00af00; text-decoration-color: #00af00\">64</span>)     │        <span style=\"color: #00af00; text-decoration-color: #00af00\">18,496</span> │\n",
       "├─────────────────────────────────┼────────────────────────┼───────────────┤\n",
       "│ max_pooling2d_1 (<span style=\"color: #0087ff; text-decoration-color: #0087ff\">MaxPooling2D</span>)  │ (<span style=\"color: #00d7ff; text-decoration-color: #00d7ff\">None</span>, <span style=\"color: #00af00; text-decoration-color: #00af00\">30</span>, <span style=\"color: #00af00; text-decoration-color: #00af00\">30</span>, <span style=\"color: #00af00; text-decoration-color: #00af00\">64</span>)     │             <span style=\"color: #00af00; text-decoration-color: #00af00\">0</span> │\n",
       "├─────────────────────────────────┼────────────────────────┼───────────────┤\n",
       "│ conv2d_2 (<span style=\"color: #0087ff; text-decoration-color: #0087ff\">Conv2D</span>)               │ (<span style=\"color: #00d7ff; text-decoration-color: #00d7ff\">None</span>, <span style=\"color: #00af00; text-decoration-color: #00af00\">28</span>, <span style=\"color: #00af00; text-decoration-color: #00af00\">28</span>, <span style=\"color: #00af00; text-decoration-color: #00af00\">128</span>)    │        <span style=\"color: #00af00; text-decoration-color: #00af00\">73,856</span> │\n",
       "├─────────────────────────────────┼────────────────────────┼───────────────┤\n",
       "│ max_pooling2d_2 (<span style=\"color: #0087ff; text-decoration-color: #0087ff\">MaxPooling2D</span>)  │ (<span style=\"color: #00d7ff; text-decoration-color: #00d7ff\">None</span>, <span style=\"color: #00af00; text-decoration-color: #00af00\">14</span>, <span style=\"color: #00af00; text-decoration-color: #00af00\">14</span>, <span style=\"color: #00af00; text-decoration-color: #00af00\">128</span>)    │             <span style=\"color: #00af00; text-decoration-color: #00af00\">0</span> │\n",
       "├─────────────────────────────────┼────────────────────────┼───────────────┤\n",
       "│ flatten (<span style=\"color: #0087ff; text-decoration-color: #0087ff\">Flatten</span>)               │ (<span style=\"color: #00d7ff; text-decoration-color: #00d7ff\">None</span>, <span style=\"color: #00af00; text-decoration-color: #00af00\">25088</span>)          │             <span style=\"color: #00af00; text-decoration-color: #00af00\">0</span> │\n",
       "├─────────────────────────────────┼────────────────────────┼───────────────┤\n",
       "│ dense (<span style=\"color: #0087ff; text-decoration-color: #0087ff\">Dense</span>)                   │ (<span style=\"color: #00d7ff; text-decoration-color: #00d7ff\">None</span>, <span style=\"color: #00af00; text-decoration-color: #00af00\">64</span>)             │     <span style=\"color: #00af00; text-decoration-color: #00af00\">1,605,696</span> │\n",
       "├─────────────────────────────────┼────────────────────────┼───────────────┤\n",
       "│ dense_1 (<span style=\"color: #0087ff; text-decoration-color: #0087ff\">Dense</span>)                 │ (<span style=\"color: #00d7ff; text-decoration-color: #00d7ff\">None</span>, <span style=\"color: #00af00; text-decoration-color: #00af00\">1</span>)              │            <span style=\"color: #00af00; text-decoration-color: #00af00\">65</span> │\n",
       "└─────────────────────────────────┴────────────────────────┴───────────────┘\n",
       "</pre>\n"
      ],
      "text/plain": [
       "┏━━━━━━━━━━━━━━━━━━━━━━━━━━━━━━━━━┳━━━━━━━━━━━━━━━━━━━━━━━━┳━━━━━━━━━━━━━━━┓\n",
       "┃\u001b[1m \u001b[0m\u001b[1mLayer (type)                   \u001b[0m\u001b[1m \u001b[0m┃\u001b[1m \u001b[0m\u001b[1mOutput Shape          \u001b[0m\u001b[1m \u001b[0m┃\u001b[1m \u001b[0m\u001b[1m      Param #\u001b[0m\u001b[1m \u001b[0m┃\n",
       "┡━━━━━━━━━━━━━━━━━━━━━━━━━━━━━━━━━╇━━━━━━━━━━━━━━━━━━━━━━━━╇━━━━━━━━━━━━━━━┩\n",
       "│ conv2d (\u001b[38;5;33mConv2D\u001b[0m)                 │ (\u001b[38;5;45mNone\u001b[0m, \u001b[38;5;34m126\u001b[0m, \u001b[38;5;34m126\u001b[0m, \u001b[38;5;34m32\u001b[0m)   │           \u001b[38;5;34m896\u001b[0m │\n",
       "├─────────────────────────────────┼────────────────────────┼───────────────┤\n",
       "│ max_pooling2d (\u001b[38;5;33mMaxPooling2D\u001b[0m)    │ (\u001b[38;5;45mNone\u001b[0m, \u001b[38;5;34m63\u001b[0m, \u001b[38;5;34m63\u001b[0m, \u001b[38;5;34m32\u001b[0m)     │             \u001b[38;5;34m0\u001b[0m │\n",
       "├─────────────────────────────────┼────────────────────────┼───────────────┤\n",
       "│ conv2d_1 (\u001b[38;5;33mConv2D\u001b[0m)               │ (\u001b[38;5;45mNone\u001b[0m, \u001b[38;5;34m61\u001b[0m, \u001b[38;5;34m61\u001b[0m, \u001b[38;5;34m64\u001b[0m)     │        \u001b[38;5;34m18,496\u001b[0m │\n",
       "├─────────────────────────────────┼────────────────────────┼───────────────┤\n",
       "│ max_pooling2d_1 (\u001b[38;5;33mMaxPooling2D\u001b[0m)  │ (\u001b[38;5;45mNone\u001b[0m, \u001b[38;5;34m30\u001b[0m, \u001b[38;5;34m30\u001b[0m, \u001b[38;5;34m64\u001b[0m)     │             \u001b[38;5;34m0\u001b[0m │\n",
       "├─────────────────────────────────┼────────────────────────┼───────────────┤\n",
       "│ conv2d_2 (\u001b[38;5;33mConv2D\u001b[0m)               │ (\u001b[38;5;45mNone\u001b[0m, \u001b[38;5;34m28\u001b[0m, \u001b[38;5;34m28\u001b[0m, \u001b[38;5;34m128\u001b[0m)    │        \u001b[38;5;34m73,856\u001b[0m │\n",
       "├─────────────────────────────────┼────────────────────────┼───────────────┤\n",
       "│ max_pooling2d_2 (\u001b[38;5;33mMaxPooling2D\u001b[0m)  │ (\u001b[38;5;45mNone\u001b[0m, \u001b[38;5;34m14\u001b[0m, \u001b[38;5;34m14\u001b[0m, \u001b[38;5;34m128\u001b[0m)    │             \u001b[38;5;34m0\u001b[0m │\n",
       "├─────────────────────────────────┼────────────────────────┼───────────────┤\n",
       "│ flatten (\u001b[38;5;33mFlatten\u001b[0m)               │ (\u001b[38;5;45mNone\u001b[0m, \u001b[38;5;34m25088\u001b[0m)          │             \u001b[38;5;34m0\u001b[0m │\n",
       "├─────────────────────────────────┼────────────────────────┼───────────────┤\n",
       "│ dense (\u001b[38;5;33mDense\u001b[0m)                   │ (\u001b[38;5;45mNone\u001b[0m, \u001b[38;5;34m64\u001b[0m)             │     \u001b[38;5;34m1,605,696\u001b[0m │\n",
       "├─────────────────────────────────┼────────────────────────┼───────────────┤\n",
       "│ dense_1 (\u001b[38;5;33mDense\u001b[0m)                 │ (\u001b[38;5;45mNone\u001b[0m, \u001b[38;5;34m1\u001b[0m)              │            \u001b[38;5;34m65\u001b[0m │\n",
       "└─────────────────────────────────┴────────────────────────┴───────────────┘\n"
      ]
     },
     "metadata": {},
     "output_type": "display_data"
    },
    {
     "data": {
      "text/html": [
       "<pre style=\"white-space:pre;overflow-x:auto;line-height:normal;font-family:Menlo,'DejaVu Sans Mono',consolas,'Courier New',monospace\"><span style=\"font-weight: bold\"> Total params: </span><span style=\"color: #00af00; text-decoration-color: #00af00\">1,699,009</span> (6.48 MB)\n",
       "</pre>\n"
      ],
      "text/plain": [
       "\u001b[1m Total params: \u001b[0m\u001b[38;5;34m1,699,009\u001b[0m (6.48 MB)\n"
      ]
     },
     "metadata": {},
     "output_type": "display_data"
    },
    {
     "data": {
      "text/html": [
       "<pre style=\"white-space:pre;overflow-x:auto;line-height:normal;font-family:Menlo,'DejaVu Sans Mono',consolas,'Courier New',monospace\"><span style=\"font-weight: bold\"> Trainable params: </span><span style=\"color: #00af00; text-decoration-color: #00af00\">1,699,009</span> (6.48 MB)\n",
       "</pre>\n"
      ],
      "text/plain": [
       "\u001b[1m Trainable params: \u001b[0m\u001b[38;5;34m1,699,009\u001b[0m (6.48 MB)\n"
      ]
     },
     "metadata": {},
     "output_type": "display_data"
    },
    {
     "data": {
      "text/html": [
       "<pre style=\"white-space:pre;overflow-x:auto;line-height:normal;font-family:Menlo,'DejaVu Sans Mono',consolas,'Courier New',monospace\"><span style=\"font-weight: bold\"> Non-trainable params: </span><span style=\"color: #00af00; text-decoration-color: #00af00\">0</span> (0.00 B)\n",
       "</pre>\n"
      ],
      "text/plain": [
       "\u001b[1m Non-trainable params: \u001b[0m\u001b[38;5;34m0\u001b[0m (0.00 B)\n"
      ]
     },
     "metadata": {},
     "output_type": "display_data"
    }
   ],
   "source": [
    "import tensorflow as tf\n",
    "from tensorflow.keras import layers, models\n",
    "\n",
    "# Step 1: Build the CNN model\n",
    "model = models.Sequential()\n",
    "\n",
    "# Convolutional layer 1\n",
    "model.add(layers.Conv2D(32, (3, 3), activation='relu', input_shape=(128, 128, 3)))\n",
    "model.add(layers.MaxPooling2D((2, 2)))\n",
    "\n",
    "# Convolutional layer 2\n",
    "model.add(layers.Conv2D(64, (3, 3), activation='relu'))\n",
    "model.add(layers.MaxPooling2D((2, 2)))\n",
    "\n",
    "# Convolutional layer 3\n",
    "model.add(layers.Conv2D(128, (3, 3), activation='relu'))\n",
    "model.add(layers.MaxPooling2D((2, 2)))\n",
    "\n",
    "# Flatten and Dense layers\n",
    "model.add(layers.Flatten())\n",
    "model.add(layers.Dense(64, activation='relu'))\n",
    "model.add(layers.Dense(1, activation='sigmoid'))  # Sigmoid activation for binary classification\n",
    "\n",
    "# Step 2: Compile the model\n",
    "model.compile(optimizer='adam', loss='binary_crossentropy', metrics=['accuracy'])\n",
    "\n",
    "# Summary of the model\n",
    "model.summary()\n"
   ]
  },
  {
   "cell_type": "code",
   "execution_count": 9,
   "id": "584b605b",
   "metadata": {},
   "outputs": [],
   "source": [
    "# Compile the model\n",
    "model.compile(\n",
    "    optimizer='adam',\n",
    "    loss='binary_crossentropy',  # Binary crossentropy is appropriate for binary classification\n",
    "    metrics=['accuracy']         # Track accuracy during training\n",
    ")\n"
   ]
  },
  {
   "cell_type": "code",
   "execution_count": 10,
   "id": "6d762b6b",
   "metadata": {},
   "outputs": [
    {
     "name": "stdout",
     "output_type": "stream",
     "text": [
      "Epoch 1/10\n",
      "\u001b[1m8/8\u001b[0m \u001b[32m━━━━━━━━━━━━━━━━━━━━\u001b[0m\u001b[37m\u001b[0m \u001b[1m6s\u001b[0m 368ms/step - accuracy: 0.5778 - loss: 0.6760 - val_accuracy: 0.6667 - val_loss: 0.6276\n",
      "Epoch 2/10\n",
      "\u001b[1m8/8\u001b[0m \u001b[32m━━━━━━━━━━━━━━━━━━━━\u001b[0m\u001b[37m\u001b[0m \u001b[1m2s\u001b[0m 279ms/step - accuracy: 0.6966 - loss: 0.6120 - val_accuracy: 0.7407 - val_loss: 0.5718\n",
      "Epoch 3/10\n",
      "\u001b[1m8/8\u001b[0m \u001b[32m━━━━━━━━━━━━━━━━━━━━\u001b[0m\u001b[37m\u001b[0m \u001b[1m2s\u001b[0m 211ms/step - accuracy: 0.7668 - loss: 0.5290 - val_accuracy: 0.6667 - val_loss: 0.6235\n",
      "Epoch 4/10\n",
      "\u001b[1m8/8\u001b[0m \u001b[32m━━━━━━━━━━━━━━━━━━━━\u001b[0m\u001b[37m\u001b[0m \u001b[1m2s\u001b[0m 232ms/step - accuracy: 0.7078 - loss: 0.5384 - val_accuracy: 0.7778 - val_loss: 0.5448\n",
      "Epoch 5/10\n",
      "\u001b[1m8/8\u001b[0m \u001b[32m━━━━━━━━━━━━━━━━━━━━\u001b[0m\u001b[37m\u001b[0m \u001b[1m2s\u001b[0m 212ms/step - accuracy: 0.7447 - loss: 0.4572 - val_accuracy: 0.7407 - val_loss: 0.5632\n",
      "Epoch 6/10\n",
      "\u001b[1m8/8\u001b[0m \u001b[32m━━━━━━━━━━━━━━━━━━━━\u001b[0m\u001b[37m\u001b[0m \u001b[1m2s\u001b[0m 244ms/step - accuracy: 0.7856 - loss: 0.3602 - val_accuracy: 0.7407 - val_loss: 0.5557\n",
      "Epoch 7/10\n",
      "\u001b[1m8/8\u001b[0m \u001b[32m━━━━━━━━━━━━━━━━━━━━\u001b[0m\u001b[37m\u001b[0m \u001b[1m2s\u001b[0m 215ms/step - accuracy: 0.8719 - loss: 0.2869 - val_accuracy: 0.7778 - val_loss: 0.6278\n"
     ]
    }
   ],
   "source": [
    "# Train the model\n",
    "early_stopping = tf.keras.callbacks.EarlyStopping(monitor='val_loss', patience=3)\n",
    "\n",
    "history = model.fit(\n",
    "    train_data, \n",
    "    train_labels, \n",
    "    epochs=10,  # You can adjust the number of epochs based on your need\n",
    "    batch_size=16,  # Adjust the batch size if needed\n",
    "    validation_data=(val_data, val_labels),  # Use validation set for validation\n",
    "    callbacks=[early_stopping]\n",
    ")\n"
   ]
  },
  {
   "cell_type": "code",
   "execution_count": 11,
   "id": "eacaf1f1",
   "metadata": {},
   "outputs": [
    {
     "name": "stdout",
     "output_type": "stream",
     "text": [
      "\u001b[1m1/1\u001b[0m \u001b[32m━━━━━━━━━━━━━━━━━━━━\u001b[0m\u001b[37m\u001b[0m \u001b[1m0s\u001b[0m 100ms/step - accuracy: 0.8148 - loss: 0.3598\n",
      "Test Accuracy: 81.48%\n",
      "Test Loss: 0.3598\n"
     ]
    }
   ],
   "source": [
    "# Evaluate the model on the test set\n",
    "test_loss, test_accuracy = model.evaluate(test_data, test_labels)\n",
    "print(f\"Test Accuracy: {test_accuracy * 100:.2f}%\")\n",
    "print(f\"Test Loss: {test_loss:.4f}\")\n"
   ]
  },
  {
   "cell_type": "code",
   "execution_count": 12,
   "id": "7e105512",
   "metadata": {},
   "outputs": [
    {
     "data": {
      "image/png": "[encoded data removed]",
      "text/plain": [
       "<Figure size 640x480 with 1 Axes>"
      ]
     },
     "metadata": {},
     "output_type": "display_data"
    },
    {
     "data": {
      "image/png": "[encoded data removed]",
      "text/plain": [
       "<Figure size 640x480 with 1 Axes>"
      ]
     },
     "metadata": {},
     "output_type": "display_data"
    }
   ],
   "source": [
    "import matplotlib.pyplot as plt\n",
    "\n",
    "# Plot training & validation accuracy values\n",
    "plt.plot(history.history['accuracy'], label='Train Accuracy')\n",
    "plt.plot(history.history['val_accuracy'], label='Validation Accuracy')\n",
    "plt.title('Model Accuracy')\n",
    "plt.ylabel('Accuracy')\n",
    "plt.xlabel('Epoch')\n",
    "plt.legend(loc='upper left')\n",
    "plt.show()\n",
    "\n",
    "# Plot training & validation loss values\n",
    "plt.plot(history.history['loss'], label='Train Loss')\n",
    "plt.plot(history.history['val_loss'], label='Validation Loss')\n",
    "plt.title('Model Loss')\n",
    "plt.ylabel('Loss')\n",
    "plt.xlabel('Epoch')\n",
    "plt.legend(loc='upper left')\n",
    "plt.show()\n"
   ]
  },
  {
   "cell_type": "code",
   "execution_count": 13,
   "id": "cf959eef",
   "metadata": {},
   "outputs": [
    {
     "name": "stdout",
     "output_type": "stream",
     "text": [
      "\u001b[1m1/1\u001b[0m \u001b[32m━━━━━━━━━━━━━━━━━━━━\u001b[0m\u001b[37m\u001b[0m \u001b[1m0s\u001b[0m 79ms/step - accuracy: 0.8148 - loss: 0.3598\n",
      "Test Accuracy: 81.48%\n",
      "Test Loss: 0.3598\n"
     ]
    }
   ],
   "source": [
    "# Evaluate the model on the test set\n",
    "test_loss, test_accuracy = model.evaluate(test_data, test_labels)\n",
    "print(f\"Test Accuracy: {test_accuracy * 100:.2f}%\")\n",
    "print(f\"Test Loss: {test_loss:.4f}\")\n"
   ]
  },
  {
   "cell_type": "code",
   "execution_count": 14,
   "id": "78890685",
   "metadata": {},
   "outputs": [
    {
     "name": "stdout",
     "output_type": "stream",
     "text": [
      "Label distribution: {0: 92, 1: 87}\n"
     ]
    }
   ],
   "source": [
    "import numpy as np\n",
    "\n",
    "# Count the number of instances in each class\n",
    "unique, counts = np.unique(labels, return_counts=True)\n",
    "print(f\"Label distribution: {dict(zip(unique, counts))}\")\n"
   ]
  },
  {
   "cell_type": "code",
   "execution_count": 15,
   "id": "8d14c974",
   "metadata": {},
   "outputs": [
    {
     "name": "stdout",
     "output_type": "stream",
     "text": [
      "Epoch 1/10\n"
     ]
    },
    {
     "name": "stderr",
     "output_type": "stream",
     "text": [
      "C:\\Users\\Luke Holmes\\anaconda3\\Lib\\site-packages\\keras\\src\\trainers\\data_adapters\\py_dataset_adapter.py:121: UserWarning: Your `PyDataset` class should call `super().__init__(**kwargs)` in its constructor. `**kwargs` can include `workers`, `use_multiprocessing`, `max_queue_size`. Do not pass these arguments to `fit()`, as they will be ignored.\n",
      "  self._warn_if_super_not_called()\n"
     ]
    },
    {
     "name": "stdout",
     "output_type": "stream",
     "text": [
      "\u001b[1m8/8\u001b[0m \u001b[32m━━━━━━━━━━━━━━━━━━━━\u001b[0m\u001b[37m\u001b[0m \u001b[1m4s\u001b[0m 390ms/step - accuracy: 0.5996 - loss: 0.7164 - val_accuracy: 0.7407 - val_loss: 0.5529\n",
      "Epoch 2/10\n",
      "\u001b[1m8/8\u001b[0m \u001b[32m━━━━━━━━━━━━━━━━━━━━\u001b[0m\u001b[37m\u001b[0m \u001b[1m3s\u001b[0m 297ms/step - accuracy: 0.6820 - loss: 0.5547 - val_accuracy: 0.7407 - val_loss: 0.5266\n",
      "Epoch 3/10\n",
      "\u001b[1m8/8\u001b[0m \u001b[32m━━━━━━━━━━━━━━━━━━━━\u001b[0m\u001b[37m\u001b[0m \u001b[1m3s\u001b[0m 262ms/step - accuracy: 0.7317 - loss: 0.5744 - val_accuracy: 0.7037 - val_loss: 0.4919\n",
      "Epoch 4/10\n",
      "\u001b[1m8/8\u001b[0m \u001b[32m━━━━━━━━━━━━━━━━━━━━\u001b[0m\u001b[37m\u001b[0m \u001b[1m3s\u001b[0m 274ms/step - accuracy: 0.6754 - loss: 0.5740 - val_accuracy: 0.7778 - val_loss: 0.5621\n",
      "Epoch 5/10\n",
      "\u001b[1m8/8\u001b[0m \u001b[32m━━━━━━━━━━━━━━━━━━━━\u001b[0m\u001b[37m\u001b[0m \u001b[1m3s\u001b[0m 279ms/step - accuracy: 0.7259 - loss: 0.5696 - val_accuracy: 0.7778 - val_loss: 0.5424\n",
      "Epoch 6/10\n",
      "\u001b[1m8/8\u001b[0m \u001b[32m━━━━━━━━━━━━━━━━━━━━\u001b[0m\u001b[37m\u001b[0m \u001b[1m3s\u001b[0m 269ms/step - accuracy: 0.6657 - loss: 0.5540 - val_accuracy: 0.8148 - val_loss: 0.4071\n",
      "Epoch 7/10\n",
      "\u001b[1m8/8\u001b[0m \u001b[32m━━━━━━━━━━━━━━━━━━━━\u001b[0m\u001b[37m\u001b[0m \u001b[1m3s\u001b[0m 235ms/step - accuracy: 0.7588 - loss: 0.5383 - val_accuracy: 0.5926 - val_loss: 0.8434\n",
      "Epoch 8/10\n",
      "\u001b[1m8/8\u001b[0m \u001b[32m━━━━━━━━━━━━━━━━━━━━\u001b[0m\u001b[37m\u001b[0m \u001b[1m2s\u001b[0m 221ms/step - accuracy: 0.5396 - loss: 0.7373 - val_accuracy: 0.7778 - val_loss: 0.4675\n",
      "Epoch 9/10\n",
      "\u001b[1m8/8\u001b[0m \u001b[32m━━━━━━━━━━━━━━━━━━━━\u001b[0m\u001b[37m\u001b[0m \u001b[1m2s\u001b[0m 210ms/step - accuracy: 0.7271 - loss: 0.5517 - val_accuracy: 0.7407 - val_loss: 0.4322\n"
     ]
    }
   ],
   "source": [
    "from tensorflow.keras.preprocessing.image import ImageDataGenerator\n",
    "\n",
    "# Create a data generator with augmentation\n",
    "datagen = ImageDataGenerator(\n",
    "    rotation_range=20,\n",
    "    width_shift_range=0.2,\n",
    "    height_shift_range=0.2,\n",
    "    horizontal_flip=True\n",
    ")\n",
    "\n",
    "# Fit the data generator on the training data\n",
    "datagen.fit(train_data)\n",
    "\n",
    "# Train the model using the data generator\n",
    "history = model.fit(datagen.flow(train_data, train_labels, batch_size=16),\n",
    "                    epochs=10,\n",
    "                    validation_data=(val_data, val_labels),\n",
    "                    callbacks=[early_stopping])\n"
   ]
  },
  {
   "cell_type": "code",
   "execution_count": 16,
   "id": "a3c3133b",
   "metadata": {},
   "outputs": [
    {
     "data": {
      "image/png": "[encoded data removed]",
      "text/plain": [
       "<Figure size 640x480 with 1 Axes>"
      ]
     },
     "metadata": {},
     "output_type": "display_data"
    },
    {
     "data": {
      "image/png": "[encoded data removed]",
      "text/plain": [
       "<Figure size 640x480 with 1 Axes>"
      ]
     },
     "metadata": {},
     "output_type": "display_data"
    },
    {
     "data": {
      "text/plain": [
       "{'train_accuracy': [0.5839999914169312,\n",
       "  0.6480000019073486,\n",
       "  0.7360000014305115,\n",
       "  0.6880000233650208,\n",
       "  0.7120000123977661,\n",
       "  0.7120000123977661,\n",
       "  0.7519999742507935,\n",
       "  0.6480000019073486,\n",
       "  0.7360000014305115],\n",
       " 'val_accuracy': [0.7407407164573669,\n",
       "  0.7407407164573669,\n",
       "  0.7037037014961243,\n",
       "  0.7777777910232544,\n",
       "  0.7777777910232544,\n",
       "  0.8148148059844971,\n",
       "  0.5925925970077515,\n",
       "  0.7777777910232544,\n",
       "  0.7407407164573669],\n",
       " 'train_loss': [0.7297837138175964,\n",
       "  0.5931345224380493,\n",
       "  0.5830159783363342,\n",
       "  0.5863279700279236,\n",
       "  0.5637494921684265,\n",
       "  0.5217918157577515,\n",
       "  0.5689239501953125,\n",
       "  0.6329912543296814,\n",
       "  0.5386419892311096],\n",
       " 'val_loss': [0.5529245734214783,\n",
       "  0.5265821814537048,\n",
       "  0.49187204241752625,\n",
       "  0.5620877742767334,\n",
       "  0.5424394011497498,\n",
       "  0.4071202874183655,\n",
       "  0.8433775305747986,\n",
       "  0.4675254821777344,\n",
       "  0.4322355389595032]}"
      ]
     },
     "execution_count": 16,
     "metadata": {},
     "output_type": "execute_result"
    }
   ],
   "source": [
    "# Plotting training and validation accuracy and loss\n",
    "\n",
    "# Extract accuracy and loss from the history object\n",
    "train_accuracy = history.history['accuracy']\n",
    "val_accuracy = history.history['val_accuracy']\n",
    "train_loss = history.history['loss']\n",
    "val_loss = history.history['val_loss']\n",
    "\n",
    "# Plot training & validation accuracy values\n",
    "plt.plot(train_accuracy, label='Train Accuracy')\n",
    "plt.plot(val_accuracy, label='Validation Accuracy')\n",
    "plt.title('Model Accuracy')\n",
    "plt.ylabel('Accuracy')\n",
    "plt.xlabel('Epoch')\n",
    "plt.legend(loc='upper left')\n",
    "plt.show()\n",
    "\n",
    "# Plot training & validation loss values\n",
    "plt.plot(train_loss, label='Train Loss')\n",
    "plt.plot(val_loss, label='Validation Loss')\n",
    "plt.title('Model Loss')\n",
    "plt.ylabel('Loss')\n",
    "plt.xlabel('Epoch')\n",
    "plt.legend(loc='upper left')\n",
    "plt.show()\n",
    "\n",
    "# Output data for training and validation accuracy and loss\n",
    "history_data = {\n",
    "    'train_accuracy': train_accuracy,\n",
    "    'val_accuracy': val_accuracy,\n",
    "    'train_loss': train_loss,\n",
    "    'val_loss': val_loss\n",
    "}\n",
    "\n",
    "history_data\n"
   ]
  },
  {
   "cell_type": "code",
   "execution_count": 17,
   "id": "dc48c27f",
   "metadata": {},
   "outputs": [
    {
     "name": "stdout",
     "output_type": "stream",
     "text": [
      "Epoch 1/10\n",
      "\u001b[1m8/8\u001b[0m \u001b[32m━━━━━━━━━━━━━━━━━━━━\u001b[0m\u001b[37m\u001b[0m \u001b[1m4s\u001b[0m 353ms/step - accuracy: 0.8266 - loss: 0.4670 - val_accuracy: 0.7407 - val_loss: 0.4902\n",
      "Epoch 2/10\n",
      "\u001b[1m8/8\u001b[0m \u001b[32m━━━━━━━━━━━━━━━━━━━━\u001b[0m\u001b[37m\u001b[0m \u001b[1m4s\u001b[0m 330ms/step - accuracy: 0.7066 - loss: 0.5521 - val_accuracy: 0.7778 - val_loss: 0.4478\n",
      "Epoch 3/10\n",
      "\u001b[1m8/8\u001b[0m \u001b[32m━━━━━━━━━━━━━━━━━━━━\u001b[0m\u001b[37m\u001b[0m \u001b[1m4s\u001b[0m 356ms/step - accuracy: 0.7516 - loss: 0.5445 - val_accuracy: 0.8889 - val_loss: 0.3989\n",
      "Epoch 4/10\n",
      "\u001b[1m8/8\u001b[0m \u001b[32m━━━━━━━━━━━━━━━━━━━━\u001b[0m\u001b[37m\u001b[0m \u001b[1m4s\u001b[0m 376ms/step - accuracy: 0.7562 - loss: 0.5036 - val_accuracy: 0.7778 - val_loss: 0.3566\n",
      "Epoch 5/10\n",
      "\u001b[1m8/8\u001b[0m \u001b[32m━━━━━━━━━━━━━━━━━━━━\u001b[0m\u001b[37m\u001b[0m \u001b[1m4s\u001b[0m 337ms/step - accuracy: 0.7806 - loss: 0.5175 - val_accuracy: 0.8148 - val_loss: 0.3747\n",
      "Epoch 6/10\n",
      "\u001b[1m8/8\u001b[0m \u001b[32m━━━━━━━━━━━━━━━━━━━━\u001b[0m\u001b[37m\u001b[0m \u001b[1m3s\u001b[0m 238ms/step - accuracy: 0.7958 - loss: 0.4881 - val_accuracy: 0.7778 - val_loss: 0.4200\n",
      "Epoch 7/10\n",
      "\u001b[1m8/8\u001b[0m \u001b[32m━━━━━━━━━━━━━━━━━━━━\u001b[0m\u001b[37m\u001b[0m \u001b[1m3s\u001b[0m 298ms/step - accuracy: 0.7260 - loss: 0.5133 - val_accuracy: 0.8148 - val_loss: 0.4401\n"
     ]
    }
   ],
   "source": [
    "from tensorflow.keras.preprocessing.image import ImageDataGenerator\n",
    "\n",
    "# Create a data generator with augmentation\n",
    "datagen = ImageDataGenerator(\n",
    "    rotation_range=20,      # Randomly rotate images by 20 degrees\n",
    "    width_shift_range=0.2,  # Randomly shift images horizontally by 20%\n",
    "    height_shift_range=0.2, # Randomly shift images vertically by 20%\n",
    "    horizontal_flip=True,   # Randomly flip images horizontally\n",
    "    zoom_range=0.2          # Randomly zoom in on images\n",
    ")\n",
    "\n",
    "# Fit the data generator on the training data\n",
    "datagen.fit(train_data)\n",
    "\n",
    "# Train the model using the data generator\n",
    "history_aug = model.fit(datagen.flow(train_data, train_labels, batch_size=16),\n",
    "                        epochs=10,\n",
    "                        validation_data=(val_data, val_labels),\n",
    "                        callbacks=[early_stopping])\n"
   ]
  },
  {
   "cell_type": "code",
   "execution_count": 18,
   "id": "d592a924",
   "metadata": {},
   "outputs": [
    {
     "name": "stdout",
     "output_type": "stream",
     "text": [
      "\u001b[1m1/1\u001b[0m \u001b[32m━━━━━━━━━━━━━━━━━━━━\u001b[0m\u001b[37m\u001b[0m \u001b[1m0s\u001b[0m 94ms/step - accuracy: 0.7037 - loss: 0.4542\n",
      "Test Accuracy: 70.37%\n",
      "Test Loss: 0.4542\n"
     ]
    }
   ],
   "source": [
    "# Evaluate the model on the test set\n",
    "test_loss, test_accuracy = model.evaluate(test_data, test_labels)\n",
    "print(f\"Test Accuracy: {test_accuracy * 100:.2f}%\")\n",
    "print(f\"Test Loss: {test_loss:.4f}\")\n"
   ]
  },
  {
   "cell_type": "code",
   "execution_count": 19,
   "id": "368bcbc5",
   "metadata": {},
   "outputs": [
    {
     "name": "stderr",
     "output_type": "stream",
     "text": [
      "C:\\Users\\Luke Holmes\\anaconda3\\Lib\\site-packages\\keras\\src\\layers\\convolutional\\base_conv.py:107: UserWarning: Do not pass an `input_shape`/`input_dim` argument to a layer. When using Sequential models, prefer using an `Input(shape)` object as the first layer in the model instead.\n",
      "  super().__init__(activity_regularizer=activity_regularizer, **kwargs)\n"
     ]
    },
    {
     "name": "stdout",
     "output_type": "stream",
     "text": [
      "Epoch 1/10\n",
      "\u001b[1m8/8\u001b[0m \u001b[32m━━━━━━━━━━━━━━━━━━━━\u001b[0m\u001b[37m\u001b[0m \u001b[1m6s\u001b[0m 292ms/step - accuracy: 0.5082 - loss: 0.7404 - val_accuracy: 0.4815 - val_loss: 0.7002\n",
      "Epoch 2/10\n",
      "\u001b[1m8/8\u001b[0m \u001b[32m━━━━━━━━━━━━━━━━━━━━\u001b[0m\u001b[37m\u001b[0m \u001b[1m2s\u001b[0m 226ms/step - accuracy: 0.4851 - loss: 0.7096 - val_accuracy: 0.7407 - val_loss: 0.6814\n",
      "Epoch 3/10\n",
      "\u001b[1m8/8\u001b[0m \u001b[32m━━━━━━━━━━━━━━━━━━━━\u001b[0m\u001b[37m\u001b[0m \u001b[1m3s\u001b[0m 266ms/step - accuracy: 0.5647 - loss: 0.6882 - val_accuracy: 0.6296 - val_loss: 0.6612\n"
     ]
    }
   ],
   "source": [
    "from tensorflow.keras import layers, models\n",
    "\n",
    "# Rebuild the model with Dropout layers\n",
    "model = models.Sequential()\n",
    "\n",
    "# Convolutional layers remain the same\n",
    "model.add(layers.Conv2D(32, (3, 3), activation='relu', input_shape=(128, 128, 3)))\n",
    "model.add(layers.MaxPooling2D((2, 2)))\n",
    "\n",
    "model.add(layers.Conv2D(64, (3, 3), activation='relu'))\n",
    "model.add(layers.MaxPooling2D((2, 2)))\n",
    "\n",
    "model.add(layers.Conv2D(128, (3, 3), activation='relu'))\n",
    "model.add(layers.MaxPooling2D((2, 2)))\n",
    "\n",
    "# Flatten layer\n",
    "model.add(layers.Flatten())\n",
    "\n",
    "# Dense layers with Dropout\n",
    "model.add(layers.Dense(64, activation='relu'))\n",
    "model.add(layers.Dropout(0.5))  # Add dropout to prevent overfitting\n",
    "\n",
    "model.add(layers.Dense(1, activation='sigmoid'))  # Sigmoid for binary classification\n",
    "\n",
    "# Compile the model\n",
    "model.compile(optimizer='adam', loss='binary_crossentropy', metrics=['accuracy'])\n",
    "\n",
    "# Train the model with dropout regularization\n",
    "history_dropout = model.fit(datagen.flow(train_data, train_labels, batch_size=16),\n",
    "                            epochs=10,\n",
    "                            validation_data=(val_data, val_labels),\n",
    "                            callbacks=[early_stopping])\n"
   ]
  },
  {
   "cell_type": "code",
   "execution_count": 21,
   "id": "2f6ccfc6",
   "metadata": {},
   "outputs": [],
   "source": [
    "from tensorflow.keras import layers, models, Input\n",
    "\n",
    "# Rebuild the model with the correct Input layer\n",
    "model = models.Sequential()\n",
    "\n",
    "# Use Input layer to define the input shape\n",
    "model.add(Input(shape=(128, 128, 3)))\n",
    "\n",
    "# Convolutional layers remain the same\n",
    "model.add(layers.Conv2D(32, (3, 3), activation='relu'))\n",
    "model.add(layers.MaxPooling2D((2, 2)))\n",
    "\n",
    "model.add(layers.Conv2D(64, (3, 3), activation='relu'))\n",
    "model.add(layers.MaxPooling2D((2, 2)))\n",
    "\n",
    "model.add(layers.Conv2D(128, (3, 3), activation='relu'))\n",
    "model.add(layers.MaxPooling2D((2, 2)))\n",
    "\n",
    "# Flatten layer\n",
    "model.add(layers.Flatten())\n",
    "\n",
    "# Dense layers with Dropout\n",
    "model.add(layers.Dense(64, activation='relu'))\n",
    "model.add(layers.Dropout(0.5))\n",
    "\n",
    "model.add(layers.Dense(1, activation='sigmoid'))\n",
    "\n",
    "# Compile the model\n",
    "model.compile(optimizer='adam', loss='binary_crossentropy', metrics=['accuracy'])\n"
   ]
  },
  {
   "cell_type": "code",
   "execution_count": 23,
   "id": "e3dddbe7",
   "metadata": {},
   "outputs": [],
   "source": [
    "model.compile(optimizer=tf.keras.optimizers.Adam(learning_rate=0.0001), \n",
    "              loss='binary_crossentropy', \n",
    "              metrics=['accuracy'])\n"
   ]
  },
  {
   "cell_type": "code",
   "execution_count": 22,
   "id": "b647f964",
   "metadata": {},
   "outputs": [
    {
     "name": "stdout",
     "output_type": "stream",
     "text": [
      "\u001b[1m1/1\u001b[0m \u001b[32m━━━━━━━━━━━━━━━━━━━━\u001b[0m\u001b[37m\u001b[0m \u001b[1m0s\u001b[0m 190ms/step\n",
      "Confusion Matrix:\n",
      "[[14  0]\n",
      " [13  0]]\n",
      "Classification Report:\n",
      "              precision    recall  f1-score   support\n",
      "\n",
      "           0       0.52      1.00      0.68        14\n",
      "           1       0.00      0.00      0.00        13\n",
      "\n",
      "    accuracy                           0.52        27\n",
      "   macro avg       0.26      0.50      0.34        27\n",
      "weighted avg       0.27      0.52      0.35        27\n",
      "\n"
     ]
    },
    {
     "name": "stderr",
     "output_type": "stream",
     "text": [
      "C:\\Users\\Luke Holmes\\anaconda3\\Lib\\site-packages\\sklearn\\metrics\\_classification.py:1469: UndefinedMetricWarning: Precision and F-score are ill-defined and being set to 0.0 in labels with no predicted samples. Use `zero_division` parameter to control this behavior.\n",
      "  _warn_prf(average, modifier, msg_start, len(result))\n",
      "C:\\Users\\Luke Holmes\\anaconda3\\Lib\\site-packages\\sklearn\\metrics\\_classification.py:1469: UndefinedMetricWarning: Precision and F-score are ill-defined and being set to 0.0 in labels with no predicted samples. Use `zero_division` parameter to control this behavior.\n",
      "  _warn_prf(average, modifier, msg_start, len(result))\n",
      "C:\\Users\\Luke Holmes\\anaconda3\\Lib\\site-packages\\sklearn\\metrics\\_classification.py:1469: UndefinedMetricWarning: Precision and F-score are ill-defined and being set to 0.0 in labels with no predicted samples. Use `zero_division` parameter to control this behavior.\n",
      "  _warn_prf(average, modifier, msg_start, len(result))\n"
     ]
    }
   ],
   "source": [
    "from sklearn.metrics import confusion_matrix, classification_report\n",
    "\n",
    "# Predict on the test data\n",
    "predictions = model.predict(test_data)\n",
    "predictions = (predictions > 0.5).astype(int)\n",
    "\n",
    "# Confusion Matrix\n",
    "cm = confusion_matrix(test_labels, predictions)\n",
    "print(\"Confusion Matrix:\")\n",
    "print(cm)\n",
    "\n",
    "# Classification Report\n",
    "report = classification_report(test_labels, predictions)\n",
    "print(\"Classification Report:\")\n",
    "print(report)\n"
   ]
  },
  {
   "cell_type": "code",
   "execution_count": 24,
   "id": "8d06ec6d",
   "metadata": {},
   "outputs": [],
   "source": [
    "model.compile(optimizer=tf.keras.optimizers.Adam(learning_rate=0.0001), \n",
    "              loss='binary_crossentropy', \n",
    "              metrics=['accuracy'])\n"
   ]
  },
  {
   "cell_type": "code",
   "execution_count": 26,
   "id": "1eed75f2",
   "metadata": {},
   "outputs": [
    {
     "name": "stdout",
     "output_type": "stream",
     "text": [
      "Epoch 1/10\n"
     ]
    },
    {
     "name": "stderr",
     "output_type": "stream",
     "text": [
      "C:\\Users\\Luke Holmes\\anaconda3\\Lib\\site-packages\\keras\\src\\trainers\\data_adapters\\py_dataset_adapter.py:121: UserWarning: Your `PyDataset` class should call `super().__init__(**kwargs)` in its constructor. `**kwargs` can include `workers`, `use_multiprocessing`, `max_queue_size`. Do not pass these arguments to `fit()`, as they will be ignored.\n",
      "  self._warn_if_super_not_called()\n"
     ]
    },
    {
     "name": "stdout",
     "output_type": "stream",
     "text": [
      "\u001b[1m8/8\u001b[0m \u001b[32m━━━━━━━━━━━━━━━━━━━━\u001b[0m\u001b[37m\u001b[0m \u001b[1m6s\u001b[0m 255ms/step - accuracy: 0.5339 - loss: 0.6893 - val_accuracy: 0.4815 - val_loss: 0.6960\n",
      "Epoch 2/10\n",
      "\u001b[1m8/8\u001b[0m \u001b[32m━━━━━━━━━━━━━━━━━━━━\u001b[0m\u001b[37m\u001b[0m \u001b[1m2s\u001b[0m 214ms/step - accuracy: 0.5307 - loss: 0.6826 - val_accuracy: 0.5185 - val_loss: 0.6757\n",
      "Epoch 3/10\n",
      "\u001b[1m8/8\u001b[0m \u001b[32m━━━━━━━━━━━━━━━━━━━━\u001b[0m\u001b[37m\u001b[0m \u001b[1m2s\u001b[0m 206ms/step - accuracy: 0.6575 - loss: 0.6634 - val_accuracy: 0.6667 - val_loss: 0.6588\n"
     ]
    }
   ],
   "source": [
    "from sklearn.utils import class_weight\n",
    "\n",
    "# Compute class weights based on the training labels\n",
    "class_weights = class_weight.compute_class_weight(\n",
    "    class_weight='balanced',\n",
    "    classes=np.unique(train_labels),\n",
    "    y=train_labels\n",
    ")\n",
    "\n",
    "# Convert class weights to a dictionary\n",
    "class_weights = dict(enumerate(class_weights))\n",
    "\n",
    "# Train the model using class weights\n",
    "history_weighted = model.fit(\n",
    "    datagen.flow(train_data, train_labels, batch_size=16),\n",
    "    epochs=10,\n",
    "    validation_data=(val_data, val_labels),\n",
    "    class_weight=class_weights,  # Pass class weights as a dictionary\n",
    "    callbacks=[early_stopping]\n",
    ")\n"
   ]
  },
  {
   "cell_type": "code",
   "execution_count": 27,
   "id": "f7e6356b",
   "metadata": {},
   "outputs": [
    {
     "name": "stdout",
     "output_type": "stream",
     "text": [
      "Epoch 1/20\n",
      "\u001b[1m8/8\u001b[0m \u001b[32m━━━━━━━━━━━━━━━━━━━━\u001b[0m\u001b[37m\u001b[0m \u001b[1m2s\u001b[0m 246ms/step - accuracy: 0.5955 - loss: 0.6621 - val_accuracy: 0.6667 - val_loss: 0.6524\n",
      "Epoch 2/20\n",
      "\u001b[1m8/8\u001b[0m \u001b[32m━━━━━━━━━━━━━━━━━━━━\u001b[0m\u001b[37m\u001b[0m \u001b[1m3s\u001b[0m 235ms/step - accuracy: 0.7000 - loss: 0.6471 - val_accuracy: 0.6667 - val_loss: 0.6316\n",
      "Epoch 3/20\n",
      "\u001b[1m8/8\u001b[0m \u001b[32m━━━━━━━━━━━━━━━━━━━━\u001b[0m\u001b[37m\u001b[0m \u001b[1m3s\u001b[0m 220ms/step - accuracy: 0.6850 - loss: 0.6179 - val_accuracy: 0.6667 - val_loss: 0.6066\n"
     ]
    }
   ],
   "source": [
    "history_weighted = model.fit(\n",
    "    datagen.flow(train_data, train_labels, batch_size=16),\n",
    "    epochs=20,  # Increase number of epochs\n",
    "    validation_data=(val_data, val_labels),\n",
    "    class_weight=class_weights,  \n",
    "    callbacks=[early_stopping]\n",
    ")\n"
   ]
  },
  {
   "cell_type": "code",
   "execution_count": 28,
   "id": "f005aeab",
   "metadata": {},
   "outputs": [
    {
     "name": "stdout",
     "output_type": "stream",
     "text": [
      "Epoch 1/20\n",
      "\u001b[1m8/8\u001b[0m \u001b[32m━━━━━━━━━━━━━━━━━━━━\u001b[0m\u001b[37m\u001b[0m \u001b[1m5s\u001b[0m 304ms/step - accuracy: 0.6643 - loss: 0.6235 - val_accuracy: 0.6667 - val_loss: 0.6686\n",
      "Epoch 2/20\n",
      "\u001b[1m8/8\u001b[0m \u001b[32m━━━━━━━━━━━━━━━━━━━━\u001b[0m\u001b[37m\u001b[0m \u001b[1m3s\u001b[0m 271ms/step - accuracy: 0.6246 - loss: 0.6108 - val_accuracy: 0.6667 - val_loss: 0.6195\n",
      "Epoch 3/20\n",
      "\u001b[1m8/8\u001b[0m \u001b[32m━━━━━━━━━━━━━━━━━━━━\u001b[0m\u001b[37m\u001b[0m \u001b[1m3s\u001b[0m 259ms/step - accuracy: 0.6346 - loss: 0.6482 - val_accuracy: 0.6296 - val_loss: 0.6061\n"
     ]
    }
   ],
   "source": [
    "model.compile(optimizer=tf.keras.optimizers.Adam(learning_rate=0.0001), \n",
    "              loss='binary_crossentropy', \n",
    "              metrics=['accuracy'])\n",
    "\n",
    "# Retrain the model\n",
    "history_weighted = model.fit(\n",
    "    datagen.flow(train_data, train_labels, batch_size=16),\n",
    "    epochs=20,  # Continue with more epochs\n",
    "    validation_data=(val_data, val_labels),\n",
    "    class_weight=class_weights,  \n",
    "    callbacks=[early_stopping]\n",
    ")\n"
   ]
  },
  {
   "cell_type": "code",
   "execution_count": 29,
   "id": "381adbfe",
   "metadata": {},
   "outputs": [
    {
     "name": "stdout",
     "output_type": "stream",
     "text": [
      "\u001b[1m1/1\u001b[0m \u001b[32m━━━━━━━━━━━━━━━━━━━━\u001b[0m\u001b[37m\u001b[0m \u001b[1m0s\u001b[0m 127ms/step - accuracy: 0.6296 - loss: 0.5872\n",
      "Test Accuracy: 62.96%\n",
      "Test Loss: 0.5872\n"
     ]
    }
   ],
   "source": [
    "# Evaluate the model on the test set\n",
    "test_loss, test_accuracy = model.evaluate(test_data, test_labels)\n",
    "print(f\"Test Accuracy: {test_accuracy * 100:.2f}%\")\n",
    "print(f\"Test Loss: {test_loss:.4f}\")\n"
   ]
  },
  {
   "cell_type": "code",
   "execution_count": 30,
   "id": "bf355205",
   "metadata": {},
   "outputs": [
    {
     "name": "stdout",
     "output_type": "stream",
     "text": [
      "Epoch 1/20\n",
      "\u001b[1m8/8\u001b[0m \u001b[32m━━━━━━━━━━━━━━━━━━━━\u001b[0m\u001b[37m\u001b[0m \u001b[1m4s\u001b[0m 398ms/step - accuracy: 0.7260 - loss: 0.5578 - val_accuracy: 0.6667 - val_loss: 0.6226\n",
      "Epoch 2/20\n",
      "\u001b[1m8/8\u001b[0m \u001b[32m━━━━━━━━━━━━━━━━━━━━\u001b[0m\u001b[37m\u001b[0m \u001b[1m4s\u001b[0m 393ms/step - accuracy: 0.6044 - loss: 0.6195 - val_accuracy: 0.6296 - val_loss: 0.5748\n",
      "Epoch 3/20\n",
      "\u001b[1m8/8\u001b[0m \u001b[32m━━━━━━━━━━━━━━━━━━━━\u001b[0m\u001b[37m\u001b[0m \u001b[1m5s\u001b[0m 379ms/step - accuracy: 0.6756 - loss: 0.6258 - val_accuracy: 0.7037 - val_loss: 0.5606\n"
     ]
    }
   ],
   "source": [
    "from tensorflow.keras.preprocessing.image import ImageDataGenerator\n",
    "\n",
    "# Create a data generator with more aggressive augmentation\n",
    "datagen = ImageDataGenerator(\n",
    "    rotation_range=40,\n",
    "    width_shift_range=0.2,\n",
    "    height_shift_range=0.2,\n",
    "    shear_range=0.2,\n",
    "    zoom_range=0.2,\n",
    "    horizontal_flip=True,\n",
    "    fill_mode='nearest'\n",
    ")\n",
    "\n",
    "# Fit the data generator on the training data\n",
    "datagen.fit(train_data)\n",
    "\n",
    "# Train the model using the augmented data\n",
    "history_aug = model.fit(datagen.flow(train_data, train_labels, batch_size=16),\n",
    "                        epochs=20,\n",
    "                        validation_data=(val_data, val_labels),\n",
    "                        class_weight=class_weights,\n",
    "                        callbacks=[early_stopping])\n"
   ]
  },
  {
   "cell_type": "code",
   "execution_count": 31,
   "id": "d1d6b006",
   "metadata": {},
   "outputs": [
    {
     "name": "stdout",
     "output_type": "stream",
     "text": [
      "Epoch 1/30\n",
      "\u001b[1m8/8\u001b[0m \u001b[32m━━━━━━━━━━━━━━━━━━━━\u001b[0m\u001b[37m\u001b[0m \u001b[1m5s\u001b[0m 406ms/step - accuracy: 0.6899 - loss: 0.5748 - val_accuracy: 0.6667 - val_loss: 0.6076\n",
      "Epoch 2/30\n",
      "\u001b[1m8/8\u001b[0m \u001b[32m━━━━━━━━━━━━━━━━━━━━\u001b[0m\u001b[37m\u001b[0m \u001b[1m5s\u001b[0m 415ms/step - accuracy: 0.7645 - loss: 0.5802 - val_accuracy: 0.6296 - val_loss: 0.5766\n",
      "Epoch 3/30\n",
      "\u001b[1m8/8\u001b[0m \u001b[32m━━━━━━━━━━━━━━━━━━━━\u001b[0m\u001b[37m\u001b[0m \u001b[1m5s\u001b[0m 426ms/step - accuracy: 0.7012 - loss: 0.5851 - val_accuracy: 0.5926 - val_loss: 0.5673\n"
     ]
    }
   ],
   "source": [
    "history_aug = model.fit(datagen.flow(train_data, train_labels, batch_size=16),\n",
    "                        epochs=30,  # Increase epochs to 30 or more\n",
    "                        validation_data=(val_data, val_labels),\n",
    "                        class_weight=class_weights,\n",
    "                        callbacks=[early_stopping])\n"
   ]
  },
  {
   "cell_type": "code",
   "execution_count": 32,
   "id": "86d38cc9",
   "metadata": {},
   "outputs": [
    {
     "name": "stdout",
     "output_type": "stream",
     "text": [
      "Epoch 1/30\n",
      "\u001b[1m8/8\u001b[0m \u001b[32m━━━━━━━━━━━━━━━━━━━━\u001b[0m\u001b[37m\u001b[0m \u001b[1m8s\u001b[0m 376ms/step - accuracy: 0.5071 - loss: 0.7176 - val_accuracy: 0.4815 - val_loss: 0.6906\n",
      "Epoch 2/30\n",
      "\u001b[1m8/8\u001b[0m \u001b[32m━━━━━━━━━━━━━━━━━━━━\u001b[0m\u001b[37m\u001b[0m \u001b[1m4s\u001b[0m 322ms/step - accuracy: 0.5897 - loss: 0.6864 - val_accuracy: 0.4815 - val_loss: 0.6896\n",
      "Epoch 3/30\n",
      "\u001b[1m8/8\u001b[0m \u001b[32m━━━━━━━━━━━━━━━━━━━━\u001b[0m\u001b[37m\u001b[0m \u001b[1m4s\u001b[0m 318ms/step - accuracy: 0.5719 - loss: 0.6898 - val_accuracy: 0.4815 - val_loss: 0.6939\n"
     ]
    }
   ],
   "source": [
    "# Build a more complex CNN with additional layers\n",
    "model = models.Sequential()\n",
    "\n",
    "# Input layer\n",
    "model.add(layers.Input(shape=(128, 128, 3)))\n",
    "\n",
    "# Add more convolutional layers\n",
    "model.add(layers.Conv2D(32, (3, 3), activation='relu'))\n",
    "model.add(layers.MaxPooling2D((2, 2)))\n",
    "\n",
    "model.add(layers.Conv2D(64, (3, 3), activation='relu'))\n",
    "model.add(layers.MaxPooling2D((2, 2)))\n",
    "\n",
    "model.add(layers.Conv2D(128, (3, 3), activation='relu'))\n",
    "model.add(layers.MaxPooling2D((2, 2)))\n",
    "\n",
    "# Add a new convolutional layer to capture deeper features\n",
    "model.add(layers.Conv2D(256, (3, 3), activation='relu'))\n",
    "model.add(layers.MaxPooling2D((2, 2)))\n",
    "\n",
    "# Flatten and dense layers\n",
    "model.add(layers.Flatten())\n",
    "model.add(layers.Dense(128, activation='relu'))  # Increase dense layer size\n",
    "model.add(layers.Dropout(0.5))  # Regularization\n",
    "\n",
    "model.add(layers.Dense(1, activation='sigmoid'))  # Sigmoid for binary classification\n",
    "\n",
    "# Compile the model\n",
    "model.compile(optimizer='adam', loss='binary_crossentropy', metrics=['accuracy'])\n",
    "\n",
    "# Train the model with the complex architecture\n",
    "history_complex = model.fit(datagen.flow(train_data, train_labels, batch_size=16),\n",
    "                            epochs=30,  # Train for more epochs\n",
    "                            validation_data=(val_data, val_labels),\n",
    "                            class_weight=class_weights,\n",
    "                            callbacks=[early_stopping])\n"
   ]
  },
  {
   "cell_type": "code",
   "execution_count": 34,
   "id": "eb08c665",
   "metadata": {},
   "outputs": [
    {
     "name": "stdout",
     "output_type": "stream",
     "text": [
      "Downloading data from https://storage.googleapis.com/tensorflow/keras-applications/vgg16/vgg16_weights_tf_dim_ordering_tf_kernels_notop.h5\n",
      "\u001b[1m58889256/58889256\u001b[0m \u001b[32m━━━━━━━━━━━━━━━━━━━━\u001b[0m\u001b[37m\u001b[0m \u001b[1m9s\u001b[0m 0us/step\n",
      "Epoch 1/30\n",
      "\u001b[1m8/8\u001b[0m \u001b[32m━━━━━━━━━━━━━━━━━━━━\u001b[0m\u001b[37m\u001b[0m \u001b[1m14s\u001b[0m 2s/step - accuracy: 0.5182 - loss: 1.0163 - val_accuracy: 0.4815 - val_loss: 0.8423\n",
      "Epoch 2/30\n",
      "\u001b[1m8/8\u001b[0m \u001b[32m━━━━━━━━━━━━━━━━━━━━\u001b[0m\u001b[37m\u001b[0m \u001b[1m14s\u001b[0m 2s/step - accuracy: 0.5912 - loss: 1.0108 - val_accuracy: 0.7407 - val_loss: 0.4937\n",
      "Epoch 3/30\n",
      "\u001b[1m8/8\u001b[0m \u001b[32m━━━━━━━━━━━━━━━━━━━━\u001b[0m\u001b[37m\u001b[0m \u001b[1m15s\u001b[0m 2s/step - accuracy: 0.6653 - loss: 0.6510 - val_accuracy: 0.7037 - val_loss: 0.4739\n"
     ]
    }
   ],
   "source": [
    "from tensorflow.keras.applications import VGG16\n",
    "\n",
    "# Load pre-trained VGG16 model\n",
    "base_model = VGG16(weights='imagenet', include_top=False, input_shape=(128, 128, 3))\n",
    "\n",
    "# Freeze the base model\n",
    "base_model.trainable = False\n",
    "\n",
    "# Add custom classification layers on top of the pre-trained model\n",
    "model = models.Sequential()\n",
    "model.add(base_model)\n",
    "model.add(layers.Flatten())\n",
    "model.add(layers.Dense(128, activation='relu'))\n",
    "model.add(layers.Dropout(0.5))\n",
    "model.add(layers.Dense(1, activation='sigmoid'))\n",
    "\n",
    "# Compile the model\n",
    "model.compile(optimizer='adam', loss='binary_crossentropy', metrics=['accuracy'])\n",
    "\n",
    "# Train the model with the pre-trained VGG16 base\n",
    "history_transfer = model.fit(datagen.flow(train_data, train_labels, batch_size=16),\n",
    "                             epochs=30,\n",
    "                             validation_data=(val_data, val_labels),\n",
    "                             class_weight=class_weights,\n",
    "                             callbacks=[early_stopping])\n"
   ]
  },
  {
   "cell_type": "code",
   "execution_count": 35,
   "id": "29d752cd",
   "metadata": {},
   "outputs": [
    {
     "name": "stdout",
     "output_type": "stream",
     "text": [
      "Epoch 1/30\n",
      "\u001b[1m4/4\u001b[0m \u001b[32m━━━━━━━━━━━━━━━━━━━━\u001b[0m\u001b[37m\u001b[0m \u001b[1m89s\u001b[0m 19s/step - accuracy: 0.5169 - loss: 0.7704 - val_accuracy: 0.7037 - val_loss: 0.6511\n",
      "Epoch 2/30\n",
      "\u001b[1m4/4\u001b[0m \u001b[32m━━━━━━━━━━━━━━━━━━━━\u001b[0m\u001b[37m\u001b[0m \u001b[1m70s\u001b[0m 17s/step - accuracy: 0.5616 - loss: 0.6909 - val_accuracy: 0.6667 - val_loss: 0.6219\n",
      "Epoch 3/30\n",
      "\u001b[1m4/4\u001b[0m \u001b[32m━━━━━━━━━━━━━━━━━━━━\u001b[0m\u001b[37m\u001b[0m \u001b[1m95s\u001b[0m 20s/step - accuracy: 0.5732 - loss: 0.6683 - val_accuracy: 0.5926 - val_loss: 0.6049\n"
     ]
    }
   ],
   "source": [
    "from tensorflow.keras.applications import VGG16\n",
    "from tensorflow.keras import layers, models\n",
    "from tensorflow.keras.preprocessing.image import ImageDataGenerator\n",
    "\n",
    "# Load the pre-trained VGG16 model\n",
    "base_model = VGG16(weights='imagenet', include_top=False, input_shape=(128, 128, 3))\n",
    "\n",
    "# Unfreeze some layers for fine-tuning\n",
    "for layer in base_model.layers[-4:]:  # Fine-tune last 4 layers of VGG16\n",
    "    layer.trainable = True\n",
    "\n",
    "# Add custom classification layers on top of the pre-trained model\n",
    "model = models.Sequential()\n",
    "model.add(base_model)\n",
    "model.add(layers.Flatten())\n",
    "model.add(layers.Dense(128, activation='relu'))  # Increased dense layer size\n",
    "model.add(layers.Dropout(0.5))  # Regularization\n",
    "model.add(layers.Dense(1, activation='sigmoid'))  # Sigmoid for binary classification\n",
    "\n",
    "# Compile the model with a lower learning rate\n",
    "model.compile(optimizer=tf.keras.optimizers.Adam(learning_rate=0.00001),  # Lowered learning rate\n",
    "              loss='binary_crossentropy',\n",
    "              metrics=['accuracy'])\n",
    "\n",
    "# Data augmentation\n",
    "datagen = ImageDataGenerator(\n",
    "    rotation_range=40,\n",
    "    width_shift_range=0.2,\n",
    "    height_shift_range=0.2,\n",
    "    shear_range=0.2,\n",
    "    zoom_range=0.2,\n",
    "    horizontal_flip=True,\n",
    "    fill_mode='nearest'\n",
    ")\n",
    "\n",
    "# Fit the data generator on the training data\n",
    "datagen.fit(train_data)\n",
    "\n",
    "# Train the model using the augmented data\n",
    "history_transfer = model.fit(\n",
    "    datagen.flow(train_data, train_labels, batch_size=32),  # Increased batch size\n",
    "    epochs=30,  # Continue training for more epochs\n",
    "    validation_data=(val_data, val_labels),\n",
    "    callbacks=[early_stopping]\n",
    ")\n"
   ]
  },
  {
   "cell_type": "code",
   "execution_count": 36,
   "id": "92567093",
   "metadata": {},
   "outputs": [
    {
     "name": "stdout",
     "output_type": "stream",
     "text": [
      "Epoch 1/30\n",
      "\u001b[1m4/4\u001b[0m \u001b[32m━━━━━━━━━━━━━━━━━━━━\u001b[0m\u001b[37m\u001b[0m \u001b[1m92s\u001b[0m 24s/step - accuracy: 0.6112 - loss: 0.6916 - val_accuracy: 0.6296 - val_loss: 0.5863\n",
      "Epoch 2/30\n",
      "\u001b[1m4/4\u001b[0m \u001b[32m━━━━━━━━━━━━━━━━━━━━\u001b[0m\u001b[37m\u001b[0m \u001b[1m70s\u001b[0m 17s/step - accuracy: 0.6668 - loss: 0.6508 - val_accuracy: 0.8148 - val_loss: 0.5616\n",
      "Epoch 3/30\n",
      "\u001b[1m4/4\u001b[0m \u001b[32m━━━━━━━━━━━━━━━━━━━━\u001b[0m\u001b[37m\u001b[0m \u001b[1m70s\u001b[0m 19s/step - accuracy: 0.7402 - loss: 0.5859 - val_accuracy: 0.8148 - val_loss: 0.5424\n"
     ]
    }
   ],
   "source": [
    "# Continue training the model for more epochs (e.g., 30 more epochs)\n",
    "history_transfer_more_epochs = model.fit(\n",
    "    datagen.flow(train_data, train_labels, batch_size=32),  # Keep the same batch size\n",
    "    epochs=30,  # Continue for 30 more epochs\n",
    "    validation_data=(val_data, val_labels),\n",
    "    callbacks=[early_stopping]\n",
    ")\n"
   ]
  },
  {
   "cell_type": "code",
   "execution_count": 37,
   "id": "4fbea1b2",
   "metadata": {},
   "outputs": [
    {
     "data": {
      "image/png": "[encoded data removed]",
      "text/plain": [
       "<Figure size 640x480 with 1 Axes>"
      ]
     },
     "metadata": {},
     "output_type": "display_data"
    },
    {
     "data": {
      "image/png": "[encoded data removed]",
      "text/plain": [
       "<Figure size 640x480 with 1 Axes>"
      ]
     },
     "metadata": {},
     "output_type": "display_data"
    }
   ],
   "source": [
    "import matplotlib.pyplot as plt\n",
    "\n",
    "# Plot training & validation accuracy\n",
    "plt.plot(history_transfer.history['accuracy'] + history_transfer_more_epochs.history['accuracy'], label='Train Accuracy')\n",
    "plt.plot(history_transfer.history['val_accuracy'] + history_transfer_more_epochs.history['val_accuracy'], label='Validation Accuracy')\n",
    "plt.title('Model Accuracy')\n",
    "plt.ylabel('Accuracy')\n",
    "plt.xlabel('Epoch')\n",
    "plt.legend(loc='upper left')\n",
    "plt.show()\n",
    "\n",
    "# Plot training & validation loss\n",
    "plt.plot(history_transfer.history['loss'] + history_transfer_more_epochs.history['loss'], label='Train Loss')\n",
    "plt.plot(history_transfer.history['val_loss'] + history_transfer_more_epochs.history['val_loss'], label='Validation Loss')\n",
    "plt.title('Model Loss')\n",
    "plt.ylabel('Loss')\n",
    "plt.xlabel('Epoch')\n",
    "plt.legend(loc='upper left')\n",
    "plt.show()\n"
   ]
  },
  {
   "cell_type": "code",
   "execution_count": 38,
   "id": "444aab84",
   "metadata": {},
   "outputs": [
    {
     "name": "stdout",
     "output_type": "stream",
     "text": [
      "\u001b[1m1/1\u001b[0m \u001b[32m━━━━━━━━━━━━━━━━━━━━\u001b[0m\u001b[37m\u001b[0m \u001b[1m2s\u001b[0m 2s/step - accuracy: 0.7037 - loss: 0.5593\n",
      "Test Accuracy: 70.37%\n",
      "Test Loss: 0.5593\n"
     ]
    }
   ],
   "source": [
    "# Evaluate the model on the test set\n",
    "test_loss, test_accuracy = model.evaluate(test_data, test_labels)\n",
    "print(f\"Test Accuracy: {test_accuracy * 100:.2f}%\")\n",
    "print(f\"Test Loss: {test_loss:.4f}\")\n"
   ]
  },
  {
   "cell_type": "code",
   "execution_count": 39,
   "id": "b10c4b69",
   "metadata": {},
   "outputs": [
    {
     "name": "stdout",
     "output_type": "stream",
     "text": [
      "Epoch 1/30\n",
      "\u001b[1m4/4\u001b[0m \u001b[32m━━━━━━━━━━━━━━━━━━━━\u001b[0m\u001b[37m\u001b[0m \u001b[1m59s\u001b[0m 13s/step - accuracy: 0.5147 - loss: 0.8194 - val_accuracy: 0.6667 - val_loss: 0.6184\n",
      "Epoch 2/30\n",
      "\u001b[1m4/4\u001b[0m \u001b[32m━━━━━━━━━━━━━━━━━━━━\u001b[0m\u001b[37m\u001b[0m \u001b[1m71s\u001b[0m 17s/step - accuracy: 0.5320 - loss: 0.7829 - val_accuracy: 0.7407 - val_loss: 0.5871\n",
      "Epoch 3/30\n",
      "\u001b[1m4/4\u001b[0m \u001b[32m━━━━━━━━━━━━━━━━━━━━\u001b[0m\u001b[37m\u001b[0m \u001b[1m67s\u001b[0m 15s/step - accuracy: 0.6216 - loss: 0.6966 - val_accuracy: 0.8148 - val_loss: 0.5597\n",
      "\u001b[1m1/1\u001b[0m \u001b[32m━━━━━━━━━━━━━━━━━━━━\u001b[0m\u001b[37m\u001b[0m \u001b[1m2s\u001b[0m 2s/step - accuracy: 0.8148 - loss: 0.5652\n",
      "Test Accuracy after fine-tuning: 81.48%\n",
      "Test Loss after fine-tuning: 0.5652\n"
     ]
    }
   ],
   "source": [
    "from tensorflow.keras.applications import VGG16\n",
    "from tensorflow.keras import layers, models, optimizers\n",
    "\n",
    "# Load the pre-trained VGG16 model without the top classification layers\n",
    "base_model = VGG16(weights='imagenet', include_top=False, input_shape=(128, 128, 3))\n",
    "\n",
    "# Unfreeze more layers for fine-tuning (e.g., last 8 layers)\n",
    "for layer in base_model.layers[-8:]:\n",
    "    layer.trainable = True\n",
    "\n",
    "# Add custom classification layers on top of the VGG16 base model\n",
    "model = models.Sequential()\n",
    "model.add(base_model)\n",
    "model.add(layers.Flatten())\n",
    "model.add(layers.Dense(128, activation='relu'))  # Increased dense layer size\n",
    "model.add(layers.Dropout(0.5))  # Regularization to prevent overfitting\n",
    "model.add(layers.Dense(1, activation='sigmoid'))  # Sigmoid for binary classification\n",
    "\n",
    "# Compile the model with a lower learning rate and a fine-tuning optimizer\n",
    "model.compile(optimizer=optimizers.Adam(learning_rate=0.00001),  # Reduced learning rate\n",
    "              loss='binary_crossentropy',\n",
    "              metrics=['accuracy'])\n",
    "\n",
    "# Train the model\n",
    "history_finetune = model.fit(\n",
    "    datagen.flow(train_data, train_labels, batch_size=32),  # Data augmentation\n",
    "    epochs=30,  # Continue training for more epochs\n",
    "    validation_data=(val_data, val_labels),\n",
    "    callbacks=[early_stopping]\n",
    ")\n",
    "\n",
    "# Evaluate the model on the test set after fine-tuning more layers\n",
    "test_loss, test_accuracy = model.evaluate(test_data, test_labels)\n",
    "print(f\"Test Accuracy after fine-tuning: {test_accuracy * 100:.2f}%\")\n",
    "print(f\"Test Loss after fine-tuning: {test_loss:.4f}\")\n"
   ]
  },
  {
   "cell_type": "code",
   "execution_count": 40,
   "id": "9956503c",
   "metadata": {},
   "outputs": [
    {
     "name": "stdout",
     "output_type": "stream",
     "text": [
      "Epoch 1/30\n",
      "\u001b[1m2/2\u001b[0m \u001b[32m━━━━━━━━━━━━━━━━━━━━\u001b[0m\u001b[37m\u001b[0m \u001b[1m88s\u001b[0m 45s/step - accuracy: 0.6239 - loss: 0.6587 - val_accuracy: 0.7407 - val_loss: 0.5499\n",
      "Epoch 2/30\n",
      "\u001b[1m2/2\u001b[0m \u001b[32m━━━━━━━━━━━━━━━━━━━━\u001b[0m\u001b[37m\u001b[0m \u001b[1m52s\u001b[0m 26s/step - accuracy: 0.6189 - loss: 0.6569 - val_accuracy: 0.7778 - val_loss: 0.5169\n",
      "Epoch 3/30\n",
      "\u001b[1m2/2\u001b[0m \u001b[32m━━━━━━━━━━━━━━━━━━━━\u001b[0m\u001b[37m\u001b[0m \u001b[1m47s\u001b[0m 23s/step - accuracy: 0.7301 - loss: 0.5405 - val_accuracy: 0.7407 - val_loss: 0.5328\n",
      "\u001b[1m1/1\u001b[0m \u001b[32m━━━━━━━━━━━━━━━━━━━━\u001b[0m\u001b[37m\u001b[0m \u001b[1m2s\u001b[0m 2s/step - accuracy: 0.7778 - loss: 0.5376\n",
      "Test Accuracy after hyperparameter tuning: 77.78%\n",
      "Test Loss after hyperparameter tuning: 0.5376\n"
     ]
    }
   ],
   "source": [
    "# Try a different optimizer, such as RMSprop or SGD with momentum\n",
    "model.compile(optimizer=tf.keras.optimizers.RMSprop(learning_rate=0.00001),\n",
    "              loss='binary_crossentropy',\n",
    "              metrics=['accuracy'])\n",
    "\n",
    "# Increase batch size to 64 or 128 for more stable training\n",
    "history_hyperparam_tuning = model.fit(\n",
    "    datagen.flow(train_data, train_labels, batch_size=64),  # Increased batch size\n",
    "    epochs=30,  # Continue training for more epochs\n",
    "    validation_data=(val_data, val_labels),\n",
    "    callbacks=[early_stopping]\n",
    ")\n",
    "\n",
    "# Evaluate on test set again\n",
    "test_loss, test_accuracy = model.evaluate(test_data, test_labels)\n",
    "print(f\"Test Accuracy after hyperparameter tuning: {test_accuracy * 100:.2f}%\")\n",
    "print(f\"Test Loss after hyperparameter tuning: {test_loss:.4f}\")\n"
   ]
  },
  {
   "cell_type": "code",
   "execution_count": 42,
   "id": "08967e2d",
   "metadata": {},
   "outputs": [
    {
     "name": "stdout",
     "output_type": "stream",
     "text": [
      "Epoch 1/30\n"
     ]
    },
    {
     "name": "stderr",
     "output_type": "stream",
     "text": [
      "C:\\Users\\Luke Holmes\\anaconda3\\Lib\\site-packages\\keras\\src\\trainers\\data_adapters\\py_dataset_adapter.py:121: UserWarning: Your `PyDataset` class should call `super().__init__(**kwargs)` in its constructor. `**kwargs` can include `workers`, `use_multiprocessing`, `max_queue_size`. Do not pass these arguments to `fit()`, as they will be ignored.\n",
      "  self._warn_if_super_not_called()\n"
     ]
    },
    {
     "name": "stdout",
     "output_type": "stream",
     "text": [
      "\u001b[1m4/4\u001b[0m \u001b[32m━━━━━━━━━━━━━━━━━━━━\u001b[0m\u001b[37m\u001b[0m \u001b[1m60s\u001b[0m 13s/step - accuracy: 0.5522 - loss: 1.6584 - val_accuracy: 0.4815 - val_loss: 2.4944\n",
      "Epoch 2/30\n",
      "\u001b[1m4/4\u001b[0m \u001b[32m━━━━━━━━━━━━━━━━━━━━\u001b[0m\u001b[37m\u001b[0m \u001b[1m51s\u001b[0m 12s/step - accuracy: 0.4907 - loss: 1.3266 - val_accuracy: 0.4815 - val_loss: 0.6935\n",
      "Epoch 3/30\n",
      "\u001b[1m4/4\u001b[0m \u001b[32m━━━━━━━━━━━━━━━━━━━━\u001b[0m\u001b[37m\u001b[0m \u001b[1m63s\u001b[0m 16s/step - accuracy: 0.4949 - loss: 0.6945 - val_accuracy: 0.4815 - val_loss: 0.6916\n",
      "Epoch 4/30\n",
      "\u001b[1m4/4\u001b[0m \u001b[32m━━━━━━━━━━━━━━━━━━━━\u001b[0m\u001b[37m\u001b[0m \u001b[1m78s\u001b[0m 19s/step - accuracy: 0.6170 - loss: 0.6997 - val_accuracy: 0.5185 - val_loss: 0.7913\n",
      "Epoch 5/30\n",
      "\u001b[1m4/4\u001b[0m \u001b[32m━━━━━━━━━━━━━━━━━━━━\u001b[0m\u001b[37m\u001b[0m \u001b[1m59s\u001b[0m 15s/step - accuracy: 0.5149 - loss: 0.7451 - val_accuracy: 0.6667 - val_loss: 0.6772\n",
      "Epoch 6/30\n",
      "\u001b[1m4/4\u001b[0m \u001b[32m━━━━━━━━━━━━━━━━━━━━\u001b[0m\u001b[37m\u001b[0m \u001b[1m75s\u001b[0m 20s/step - accuracy: 0.5272 - loss: 0.8791 - val_accuracy: 0.4815 - val_loss: 0.7189\n",
      "Epoch 7/30\n",
      "\u001b[1m4/4\u001b[0m \u001b[32m━━━━━━━━━━━━━━━━━━━━\u001b[0m\u001b[37m\u001b[0m \u001b[1m74s\u001b[0m 18s/step - accuracy: 0.5286 - loss: 0.7106 - val_accuracy: 0.5185 - val_loss: 0.6865\n",
      "Epoch 8/30\n",
      "\u001b[1m4/4\u001b[0m \u001b[32m━━━━━━━━━━━━━━━━━━━━\u001b[0m\u001b[37m\u001b[0m \u001b[1m72s\u001b[0m 18s/step - accuracy: 0.5119 - loss: 0.8533 - val_accuracy: 0.5185 - val_loss: 0.6899\n",
      "Epoch 9/30\n",
      "\u001b[1m4/4\u001b[0m \u001b[32m━━━━━━━━━━━━━━━━━━━━\u001b[0m\u001b[37m\u001b[0m \u001b[1m63s\u001b[0m 15s/step - accuracy: 0.4500 - loss: 0.7059 - val_accuracy: 0.5556 - val_loss: 0.6899\n",
      "Epoch 10/30\n",
      "\u001b[1m4/4\u001b[0m \u001b[32m━━━━━━━━━━━━━━━━━━━━\u001b[0m\u001b[37m\u001b[0m \u001b[1m72s\u001b[0m 18s/step - accuracy: 0.3921 - loss: 0.7213 - val_accuracy: 0.4815 - val_loss: 0.7003\n",
      "Epoch 11/30\n",
      "\u001b[1m4/4\u001b[0m \u001b[32m━━━━━━━━━━━━━━━━━━━━\u001b[0m\u001b[37m\u001b[0m \u001b[1m61s\u001b[0m 16s/step - accuracy: 0.5321 - loss: 0.6809 - val_accuracy: 0.6296 - val_loss: 0.6872\n",
      "Epoch 12/30\n",
      "\u001b[1m4/4\u001b[0m \u001b[32m━━━━━━━━━━━━━━━━━━━━\u001b[0m\u001b[37m\u001b[0m \u001b[1m69s\u001b[0m 16s/step - accuracy: 0.5500 - loss: 0.6894 - val_accuracy: 0.5556 - val_loss: 0.6859\n",
      "Epoch 13/30\n",
      "\u001b[1m4/4\u001b[0m \u001b[32m━━━━━━━━━━━━━━━━━━━━\u001b[0m\u001b[37m\u001b[0m \u001b[1m56s\u001b[0m 14s/step - accuracy: 0.4546 - loss: 0.7336 - val_accuracy: 0.5185 - val_loss: 0.6905\n",
      "Epoch 14/30\n",
      "\u001b[1m4/4\u001b[0m \u001b[32m━━━━━━━━━━━━━━━━━━━━\u001b[0m\u001b[37m\u001b[0m \u001b[1m65s\u001b[0m 17s/step - accuracy: 0.5532 - loss: 0.7012 - val_accuracy: 0.5185 - val_loss: 0.6976\n",
      "Epoch 15/30\n",
      "\u001b[1m4/4\u001b[0m \u001b[32m━━━━━━━━━━━━━━━━━━━━\u001b[0m\u001b[37m\u001b[0m \u001b[1m62s\u001b[0m 16s/step - accuracy: 0.4664 - loss: 0.7106 - val_accuracy: 0.4815 - val_loss: 0.6946\n",
      "Epoch 16/30\n",
      "\u001b[1m4/4\u001b[0m \u001b[32m━━━━━━━━━━━━━━━━━━━━\u001b[0m\u001b[37m\u001b[0m \u001b[1m75s\u001b[0m 18s/step - accuracy: 0.4690 - loss: 0.7057 - val_accuracy: 0.4444 - val_loss: 0.6952\n",
      "Epoch 17/30\n",
      "\u001b[1m4/4\u001b[0m \u001b[32m━━━━━━━━━━━━━━━━━━━━\u001b[0m\u001b[37m\u001b[0m \u001b[1m53s\u001b[0m 13s/step - accuracy: 0.4697 - loss: 0.7234 - val_accuracy: 0.4815 - val_loss: 0.6970\n",
      "Epoch 18/30\n",
      "\u001b[1m4/4\u001b[0m \u001b[32m━━━━━━━━━━━━━━━━━━━━\u001b[0m\u001b[37m\u001b[0m \u001b[1m53s\u001b[0m 13s/step - accuracy: 0.5309 - loss: 0.6986 - val_accuracy: 0.5185 - val_loss: 0.6922\n",
      "Epoch 19/30\n",
      "\u001b[1m4/4\u001b[0m \u001b[32m━━━━━━━━━━━━━━━━━━━━\u001b[0m\u001b[37m\u001b[0m \u001b[1m53s\u001b[0m 13s/step - accuracy: 0.5182 - loss: 0.6892 - val_accuracy: 0.5185 - val_loss: 0.6915\n",
      "Epoch 20/30\n",
      "\u001b[1m4/4\u001b[0m \u001b[32m━━━━━━━━━━━━━━━━━━━━\u001b[0m\u001b[37m\u001b[0m \u001b[1m51s\u001b[0m 13s/step - accuracy: 0.4352 - loss: 0.7006 - val_accuracy: 0.5185 - val_loss: 0.6909\n",
      "Epoch 21/30\n",
      "\u001b[1m4/4\u001b[0m \u001b[32m━━━━━━━━━━━━━━━━━━━━\u001b[0m\u001b[37m\u001b[0m \u001b[1m56s\u001b[0m 15s/step - accuracy: 0.5133 - loss: 0.6885 - val_accuracy: 0.4815 - val_loss: 0.6916\n",
      "Epoch 22/30\n",
      "\u001b[1m4/4\u001b[0m \u001b[32m━━━━━━━━━━━━━━━━━━━━\u001b[0m\u001b[37m\u001b[0m \u001b[1m52s\u001b[0m 13s/step - accuracy: 0.5035 - loss: 0.6944 - val_accuracy: 0.5185 - val_loss: 0.6901\n",
      "Epoch 23/30\n",
      "\u001b[1m4/4\u001b[0m \u001b[32m━━━━━━━━━━━━━━━━━━━━\u001b[0m\u001b[37m\u001b[0m \u001b[1m65s\u001b[0m 17s/step - accuracy: 0.4922 - loss: 0.6987 - val_accuracy: 0.5185 - val_loss: 0.6917\n",
      "Epoch 24/30\n",
      "\u001b[1m4/4\u001b[0m \u001b[32m━━━━━━━━━━━━━━━━━━━━\u001b[0m\u001b[37m\u001b[0m \u001b[1m72s\u001b[0m 18s/step - accuracy: 0.5309 - loss: 0.6959 - val_accuracy: 0.5556 - val_loss: 0.6876\n",
      "Epoch 25/30\n",
      "\u001b[1m4/4\u001b[0m \u001b[32m━━━━━━━━━━━━━━━━━━━━\u001b[0m\u001b[37m\u001b[0m \u001b[1m68s\u001b[0m 16s/step - accuracy: 0.4941 - loss: 0.6933 - val_accuracy: 0.4815 - val_loss: 0.6896\n",
      "Epoch 26/30\n",
      "\u001b[1m4/4\u001b[0m \u001b[32m━━━━━━━━━━━━━━━━━━━━\u001b[0m\u001b[37m\u001b[0m \u001b[1m58s\u001b[0m 15s/step - accuracy: 0.5058 - loss: 0.6890 - val_accuracy: 0.4815 - val_loss: 0.6900\n",
      "Epoch 27/30\n",
      "\u001b[1m4/4\u001b[0m \u001b[32m━━━━━━━━━━━━━━━━━━━━\u001b[0m\u001b[37m\u001b[0m \u001b[1m57s\u001b[0m 13s/step - accuracy: 0.5550 - loss: 0.6865 - val_accuracy: 0.5926 - val_loss: 0.6868\n",
      "Epoch 28/30\n",
      "\u001b[1m4/4\u001b[0m \u001b[32m━━━━━━━━━━━━━━━━━━━━\u001b[0m\u001b[37m\u001b[0m \u001b[1m50s\u001b[0m 12s/step - accuracy: 0.6034 - loss: 0.6778 - val_accuracy: 0.5926 - val_loss: 0.6757\n",
      "Epoch 29/30\n",
      "\u001b[1m4/4\u001b[0m \u001b[32m━━━━━━━━━━━━━━━━━━━━\u001b[0m\u001b[37m\u001b[0m \u001b[1m52s\u001b[0m 13s/step - accuracy: 0.5413 - loss: 0.6824 - val_accuracy: 0.4815 - val_loss: 0.6899\n",
      "Epoch 30/30\n",
      "\u001b[1m4/4\u001b[0m \u001b[32m━━━━━━━━━━━━━━━━━━━━\u001b[0m\u001b[37m\u001b[0m \u001b[1m60s\u001b[0m 16s/step - accuracy: 0.5339 - loss: 0.6881 - val_accuracy: 0.5185 - val_loss: 0.6868\n",
      "Downloading data from https://storage.googleapis.com/tensorflow/keras-applications/resnet/resnet50_weights_tf_dim_ordering_tf_kernels_notop.h5\n",
      "\u001b[1m94765736/94765736\u001b[0m \u001b[32m━━━━━━━━━━━━━━━━━━━━\u001b[0m\u001b[37m\u001b[0m \u001b[1m15s\u001b[0m 0us/step\n",
      "Epoch 1/30\n",
      "\u001b[1m4/4\u001b[0m \u001b[32m━━━━━━━━━━━━━━━━━━━━\u001b[0m\u001b[37m\u001b[0m \u001b[1m98s\u001b[0m 12s/step - accuracy: 0.5308 - loss: 4.2128 - val_accuracy: 0.5185 - val_loss: 4.3504\n",
      "Epoch 2/30\n",
      "\u001b[1m4/4\u001b[0m \u001b[32m━━━━━━━━━━━━━━━━━━━━\u001b[0m\u001b[37m\u001b[0m \u001b[1m31s\u001b[0m 8s/step - accuracy: 0.7919 - loss: 1.7054 - val_accuracy: 0.5185 - val_loss: 5.9526\n",
      "Epoch 3/30\n",
      "\u001b[1m4/4\u001b[0m \u001b[32m━━━━━━━━━━━━━━━━━━━━\u001b[0m\u001b[37m\u001b[0m \u001b[1m34s\u001b[0m 8s/step - accuracy: 0.8025 - loss: 1.0851 - val_accuracy: 0.5185 - val_loss: 49.4559\n",
      "Epoch 4/30\n",
      "\u001b[1m4/4\u001b[0m \u001b[32m━━━━━━━━━━━━━━━━━━━━\u001b[0m\u001b[37m\u001b[0m \u001b[1m26s\u001b[0m 7s/step - accuracy: 0.8456 - loss: 1.5719 - val_accuracy: 0.5185 - val_loss: 5380.9697\n",
      "Epoch 5/30\n",
      "\u001b[1m4/4\u001b[0m \u001b[32m━━━━━━━━━━━━━━━━━━━━\u001b[0m\u001b[37m\u001b[0m \u001b[1m27s\u001b[0m 7s/step - accuracy: 0.9179 - loss: 0.4475 - val_accuracy: 0.5185 - val_loss: 222097.1406\n",
      "Epoch 6/30\n",
      "\u001b[1m4/4\u001b[0m \u001b[32m━━━━━━━━━━━━━━━━━━━━\u001b[0m\u001b[37m\u001b[0m \u001b[1m30s\u001b[0m 7s/step - accuracy: 0.8616 - loss: 0.3487 - val_accuracy: 0.5185 - val_loss: 1850658.1250\n",
      "Epoch 7/30\n",
      "\u001b[1m4/4\u001b[0m \u001b[32m━━━━━━━━━━━━━━━━━━━━\u001b[0m\u001b[37m\u001b[0m \u001b[1m31s\u001b[0m 8s/step - accuracy: 0.8107 - loss: 0.3688 - val_accuracy: 0.5185 - val_loss: 1801737.0000\n",
      "Epoch 8/30\n",
      "\u001b[1m4/4\u001b[0m \u001b[32m━━━━━━━━━━━━━━━━━━━━\u001b[0m\u001b[37m\u001b[0m \u001b[1m28s\u001b[0m 7s/step - accuracy: 0.8870 - loss: 0.2719 - val_accuracy: 0.5185 - val_loss: 804269.7500\n",
      "Epoch 9/30\n",
      "\u001b[1m4/4\u001b[0m \u001b[32m━━━━━━━━━━━━━━━━━━━━\u001b[0m\u001b[37m\u001b[0m \u001b[1m31s\u001b[0m 8s/step - accuracy: 0.8647 - loss: 0.2392 - val_accuracy: 0.5185 - val_loss: 544416.3750\n",
      "Epoch 10/30\n",
      "\u001b[1m4/4\u001b[0m \u001b[32m━━━━━━━━━━━━━━━━━━━━\u001b[0m\u001b[37m\u001b[0m \u001b[1m33s\u001b[0m 9s/step - accuracy: 0.9159 - loss: 0.3000 - val_accuracy: 0.5185 - val_loss: 370611.1250\n",
      "Epoch 11/30\n",
      "\u001b[1m4/4\u001b[0m \u001b[32m━━━━━━━━━━━━━━━━━━━━\u001b[0m\u001b[37m\u001b[0m \u001b[1m51s\u001b[0m 14s/step - accuracy: 0.9702 - loss: 0.1675 - val_accuracy: 0.5185 - val_loss: 244795.0156\n",
      "Epoch 12/30\n",
      "\u001b[1m4/4\u001b[0m \u001b[32m━━━━━━━━━━━━━━━━━━━━\u001b[0m\u001b[37m\u001b[0m \u001b[1m97s\u001b[0m 18s/step - accuracy: 0.9250 - loss: 0.1979 - val_accuracy: 0.5185 - val_loss: 127218.3906\n",
      "Epoch 13/30\n",
      "\u001b[1m4/4\u001b[0m \u001b[32m━━━━━━━━━━━━━━━━━━━━\u001b[0m\u001b[37m\u001b[0m \u001b[1m30s\u001b[0m 7s/step - accuracy: 0.9070 - loss: 0.2076 - val_accuracy: 0.5185 - val_loss: 52605.1914\n",
      "Epoch 14/30\n",
      "\u001b[1m4/4\u001b[0m \u001b[32m━━━━━━━━━━━━━━━━━━━━\u001b[0m\u001b[37m\u001b[0m \u001b[1m25s\u001b[0m 6s/step - accuracy: 0.8669 - loss: 0.3313 - val_accuracy: 0.5185 - val_loss: 14064.6367\n",
      "Epoch 15/30\n",
      "\u001b[1m4/4\u001b[0m \u001b[32m━━━━━━━━━━━━━━━━━━━━\u001b[0m\u001b[37m\u001b[0m \u001b[1m28s\u001b[0m 7s/step - accuracy: 0.9590 - loss: 0.1786 - val_accuracy: 0.5185 - val_loss: 35.4727\n",
      "Epoch 16/30\n",
      "\u001b[1m4/4\u001b[0m \u001b[32m━━━━━━━━━━━━━━━━━━━━\u001b[0m\u001b[37m\u001b[0m \u001b[1m31s\u001b[0m 8s/step - accuracy: 0.9386 - loss: 0.1880 - val_accuracy: 0.4815 - val_loss: 106.6045\n",
      "Epoch 17/30\n",
      "\u001b[1m4/4\u001b[0m \u001b[32m━━━━━━━━━━━━━━━━━━━━\u001b[0m\u001b[37m\u001b[0m \u001b[1m33s\u001b[0m 8s/step - accuracy: 0.9641 - loss: 0.1312 - val_accuracy: 0.4815 - val_loss: 82.7694\n",
      "Epoch 18/30\n",
      "\u001b[1m4/4\u001b[0m \u001b[32m━━━━━━━━━━━━━━━━━━━━\u001b[0m\u001b[37m\u001b[0m \u001b[1m39s\u001b[0m 8s/step - accuracy: 0.9678 - loss: 0.1015 - val_accuracy: 0.4815 - val_loss: 67.9348\n",
      "Epoch 19/30\n",
      "\u001b[1m4/4\u001b[0m \u001b[32m━━━━━━━━━━━━━━━━━━━━\u001b[0m\u001b[37m\u001b[0m \u001b[1m34s\u001b[0m 8s/step - accuracy: 0.9474 - loss: 0.2043 - val_accuracy: 0.4815 - val_loss: 59.3064\n",
      "Epoch 20/30\n",
      "\u001b[1m4/4\u001b[0m \u001b[32m━━━━━━━━━━━━━━━━━━━━\u001b[0m\u001b[37m\u001b[0m \u001b[1m36s\u001b[0m 9s/step - accuracy: 0.9767 - loss: 0.0588 - val_accuracy: 0.4815 - val_loss: 60.2515\n",
      "Epoch 21/30\n",
      "\u001b[1m4/4\u001b[0m \u001b[32m━━━━━━━━━━━━━━━━━━━━\u001b[0m\u001b[37m\u001b[0m \u001b[1m36s\u001b[0m 9s/step - accuracy: 0.9561 - loss: 0.1559 - val_accuracy: 0.4815 - val_loss: 57.6366\n",
      "Epoch 22/30\n",
      "\u001b[1m4/4\u001b[0m \u001b[32m━━━━━━━━━━━━━━━━━━━━\u001b[0m\u001b[37m\u001b[0m \u001b[1m35s\u001b[0m 9s/step - accuracy: 0.9642 - loss: 0.0820 - val_accuracy: 0.4815 - val_loss: 54.2791\n",
      "Epoch 23/30\n",
      "\u001b[1m4/4\u001b[0m \u001b[32m━━━━━━━━━━━━━━━━━━━━\u001b[0m\u001b[37m\u001b[0m \u001b[1m36s\u001b[0m 9s/step - accuracy: 0.9336 - loss: 0.2375 - val_accuracy: 0.4815 - val_loss: 62.0799\n",
      "Epoch 24/30\n",
      "\u001b[1m4/4\u001b[0m \u001b[32m━━━━━━━━━━━━━━━━━━━━\u001b[0m\u001b[37m\u001b[0m \u001b[1m32s\u001b[0m 8s/step - accuracy: 0.9375 - loss: 0.1112 - val_accuracy: 0.4815 - val_loss: 74.6986\n",
      "Epoch 25/30\n",
      "\u001b[1m4/4\u001b[0m \u001b[32m━━━━━━━━━━━━━━━━━━━━\u001b[0m\u001b[37m\u001b[0m \u001b[1m31s\u001b[0m 7s/step - accuracy: 0.9432 - loss: 0.1944 - val_accuracy: 0.4815 - val_loss: 90.7210\n",
      "Epoch 26/30\n",
      "\u001b[1m4/4\u001b[0m \u001b[32m━━━━━━━━━━━━━━━━━━━━\u001b[0m\u001b[37m\u001b[0m \u001b[1m30s\u001b[0m 7s/step - accuracy: 0.9463 - loss: 0.1579 - val_accuracy: 0.4815 - val_loss: 93.8774\n",
      "Epoch 27/30\n",
      "\u001b[1m4/4\u001b[0m \u001b[32m━━━━━━━━━━━━━━━━━━━━\u001b[0m\u001b[37m\u001b[0m \u001b[1m30s\u001b[0m 8s/step - accuracy: 0.9685 - loss: 0.0767 - val_accuracy: 0.4815 - val_loss: 81.9567\n",
      "Epoch 28/30\n",
      "\u001b[1m4/4\u001b[0m \u001b[32m━━━━━━━━━━━━━━━━━━━━\u001b[0m\u001b[37m\u001b[0m \u001b[1m29s\u001b[0m 7s/step - accuracy: 0.9679 - loss: 0.0701 - val_accuracy: 0.4815 - val_loss: 67.4560\n",
      "Epoch 29/30\n",
      "\u001b[1m4/4\u001b[0m \u001b[32m━━━━━━━━━━━━━━━━━━━━\u001b[0m\u001b[37m\u001b[0m \u001b[1m30s\u001b[0m 8s/step - accuracy: 0.9769 - loss: 0.0474 - val_accuracy: 0.4815 - val_loss: 48.9530\n",
      "Epoch 30/30\n",
      "\u001b[1m4/4\u001b[0m \u001b[32m━━━━━━━━━━━━━━━━━━━━\u001b[0m\u001b[37m\u001b[0m \u001b[1m36s\u001b[0m 10s/step - accuracy: 0.9789 - loss: 0.0407 - val_accuracy: 0.4815 - val_loss: 37.1732\n",
      "\u001b[1m1/1\u001b[0m \u001b[32m━━━━━━━━━━━━━━━━━━━━\u001b[0m\u001b[37m\u001b[0m \u001b[1m6s\u001b[0m 6s/step\n",
      "\u001b[1m1/1\u001b[0m \u001b[32m━━━━━━━━━━━━━━━━━━━━\u001b[0m\u001b[37m\u001b[0m \u001b[1m8s\u001b[0m 8s/step\n",
      "Test Accuracy with Ensemble: 48.15%\n"
     ]
    }
   ],
   "source": [
    "import numpy as np\n",
    "from tensorflow.keras.applications import VGG16, ResNet50\n",
    "from tensorflow.keras import layers, models\n",
    "from tensorflow.keras.preprocessing.image import ImageDataGenerator\n",
    "\n",
    "# Load the pre-trained VGG16 model\n",
    "vgg_model = VGG16(weights='imagenet', include_top=False, input_shape=(128, 128, 3))\n",
    "\n",
    "# Create the VGG16 model with custom layers\n",
    "vgg_model = models.Sequential([\n",
    "    vgg_model,\n",
    "    layers.Flatten(),\n",
    "    layers.Dense(128, activation='relu'),\n",
    "    layers.Dropout(0.5),\n",
    "    layers.Dense(1, activation='sigmoid')\n",
    "])\n",
    "\n",
    "# Compile the VGG16 model\n",
    "vgg_model.compile(optimizer='adam', loss='binary_crossentropy', metrics=['accuracy'])\n",
    "\n",
    "# Train the VGG16 model\n",
    "vgg_model.fit(datagen.flow(train_data, train_labels, batch_size=32), epochs=30, validation_data=(val_data, val_labels))\n",
    "\n",
    "# Load the pre-trained ResNet50 model\n",
    "resnet_model = ResNet50(weights='imagenet', include_top=False, input_shape=(128, 128, 3))\n",
    "\n",
    "# Create the ResNet50 model with custom layers\n",
    "resnet_model = models.Sequential([\n",
    "    resnet_model,\n",
    "    layers.Flatten(),\n",
    "    layers.Dense(128, activation='relu'),\n",
    "    layers.Dropout(0.5),\n",
    "    layers.Dense(1, activation='sigmoid')\n",
    "])\n",
    "\n",
    "# Compile the ResNet50 model\n",
    "resnet_model.compile(optimizer='adam', loss='binary_crossentropy', metrics=['accuracy'])\n",
    "\n",
    "# Train the ResNet50 model\n",
    "resnet_model.fit(datagen.flow(train_data, train_labels, batch_size=32), epochs=30, validation_data=(val_data, val_labels))\n",
    "\n",
    "# Make predictions from both models\n",
    "vgg_preds = vgg_model.predict(test_data)\n",
    "resnet_preds = resnet_model.predict(test_data)\n",
    "\n",
    "# Ensemble the predictions using soft voting (average the probabilities)\n",
    "ensemble_preds = (vgg_preds + resnet_preds) / 2\n",
    "\n",
    "# Convert probabilities to binary labels (0 or 1)\n",
    "ensemble_labels = (ensemble_preds > 0.5).astype(int)\n",
    "\n",
    "# Evaluate ensemble accuracy\n",
    "ensemble_accuracy = np.mean(ensemble_labels.flatten() == test_labels.flatten())\n",
    "print(f\"Test Accuracy with Ensemble: {ensemble_accuracy * 100:.2f}%\")\n"
   ]
  },
  {
   "cell_type": "code",
   "execution_count": 43,
   "id": "1d8e9b19",
   "metadata": {},
   "outputs": [
    {
     "name": "stdout",
     "output_type": "stream",
     "text": [
      "Epoch 1/30\n",
      "\u001b[1m4/4\u001b[0m \u001b[32m━━━━━━━━━━━━━━━━━━━━\u001b[0m\u001b[37m\u001b[0m \u001b[1m107s\u001b[0m 11s/step - accuracy: 0.5831 - loss: 2.8690 - val_accuracy: 0.4815 - val_loss: 34.4216\n",
      "Epoch 2/30\n",
      "\u001b[1m4/4\u001b[0m \u001b[32m━━━━━━━━━━━━━━━━━━━━\u001b[0m\u001b[37m\u001b[0m \u001b[1m52s\u001b[0m 8s/step - accuracy: 0.7124 - loss: 2.9865 - val_accuracy: 0.5185 - val_loss: 280.7693\n",
      "Epoch 3/30\n",
      "\u001b[1m4/4\u001b[0m \u001b[32m━━━━━━━━━━━━━━━━━━━━\u001b[0m\u001b[37m\u001b[0m \u001b[1m35s\u001b[0m 8s/step - accuracy: 0.8316 - loss: 0.9980 - val_accuracy: 0.5185 - val_loss: 2803.6411\n",
      "Epoch 4/30\n",
      "\u001b[1m4/4\u001b[0m \u001b[32m━━━━━━━━━━━━━━━━━━━━\u001b[0m\u001b[37m\u001b[0m \u001b[1m65s\u001b[0m 15s/step - accuracy: 0.8236 - loss: 0.7454 - val_accuracy: 0.5185 - val_loss: 94959.7422\n",
      "Epoch 5/30\n",
      "\u001b[1m4/4\u001b[0m \u001b[32m━━━━━━━━━━━━━━━━━━━━\u001b[0m\u001b[37m\u001b[0m \u001b[1m40s\u001b[0m 10s/step - accuracy: 0.9028 - loss: 0.5454 - val_accuracy: 0.5185 - val_loss: 756266.7500\n",
      "Epoch 6/30\n",
      "\u001b[1m4/4\u001b[0m \u001b[32m━━━━━━━━━━━━━━━━━━━━\u001b[0m\u001b[37m\u001b[0m \u001b[1m28s\u001b[0m 6s/step - accuracy: 0.8549 - loss: 0.3659 - val_accuracy: 0.5185 - val_loss: 188271.8906\n",
      "Epoch 7/30\n",
      "\u001b[1m4/4\u001b[0m \u001b[32m━━━━━━━━━━━━━━━━━━━━\u001b[0m\u001b[37m\u001b[0m \u001b[1m25s\u001b[0m 6s/step - accuracy: 0.8287 - loss: 0.4475 - val_accuracy: 0.5185 - val_loss: 835.2892\n",
      "Epoch 8/30\n",
      "\u001b[1m4/4\u001b[0m \u001b[32m━━━━━━━━━━━━━━━━━━━━\u001b[0m\u001b[37m\u001b[0m \u001b[1m28s\u001b[0m 7s/step - accuracy: 0.7842 - loss: 0.7785 - val_accuracy: 0.5185 - val_loss: 4776.1719\n",
      "Epoch 9/30\n",
      "\u001b[1m4/4\u001b[0m \u001b[32m━━━━━━━━━━━━━━━━━━━━\u001b[0m\u001b[37m\u001b[0m \u001b[1m23s\u001b[0m 5s/step - accuracy: 0.8247 - loss: 9.2581 - val_accuracy: 0.5185 - val_loss: 22036.0742\n",
      "Epoch 10/30\n",
      "\u001b[1m4/4\u001b[0m \u001b[32m━━━━━━━━━━━━━━━━━━━━\u001b[0m\u001b[37m\u001b[0m \u001b[1m23s\u001b[0m 5s/step - accuracy: 0.8224 - loss: 0.8943 - val_accuracy: 0.5185 - val_loss: 151430.7188\n",
      "Epoch 11/30\n",
      "\u001b[1m4/4\u001b[0m \u001b[32m━━━━━━━━━━━━━━━━━━━━\u001b[0m\u001b[37m\u001b[0m \u001b[1m22s\u001b[0m 5s/step - accuracy: 0.7951 - loss: 4.5722 - val_accuracy: 0.5185 - val_loss: 69715.3203\n",
      "Epoch 12/30\n",
      "\u001b[1m4/4\u001b[0m \u001b[32m━━━━━━━━━━━━━━━━━━━━\u001b[0m\u001b[37m\u001b[0m \u001b[1m30s\u001b[0m 7s/step - accuracy: 0.7810 - loss: 0.8520 - val_accuracy: 0.5185 - val_loss: 54727.6562\n",
      "Epoch 13/30\n",
      "\u001b[1m4/4\u001b[0m \u001b[32m━━━━━━━━━━━━━━━━━━━━\u001b[0m\u001b[37m\u001b[0m \u001b[1m25s\u001b[0m 6s/step - accuracy: 0.8181 - loss: 0.6507 - val_accuracy: 0.5185 - val_loss: 37141.2969\n",
      "Epoch 14/30\n",
      "\u001b[1m4/4\u001b[0m \u001b[32m━━━━━━━━━━━━━━━━━━━━\u001b[0m\u001b[37m\u001b[0m \u001b[1m24s\u001b[0m 6s/step - accuracy: 0.8445 - loss: 0.3789 - val_accuracy: 0.5185 - val_loss: 22424.5137\n",
      "Epoch 15/30\n",
      "\u001b[1m4/4\u001b[0m \u001b[32m━━━━━━━━━━━━━━━━━━━━\u001b[0m\u001b[37m\u001b[0m \u001b[1m23s\u001b[0m 5s/step - accuracy: 0.8728 - loss: 0.7675 - val_accuracy: 0.5185 - val_loss: 11815.9951\n",
      "Epoch 16/30\n",
      "\u001b[1m4/4\u001b[0m \u001b[32m━━━━━━━━━━━━━━━━━━━━\u001b[0m\u001b[37m\u001b[0m \u001b[1m28s\u001b[0m 6s/step - accuracy: 0.8889 - loss: 0.4053 - val_accuracy: 0.5185 - val_loss: 5871.0537\n",
      "Epoch 17/30\n",
      "\u001b[1m4/4\u001b[0m \u001b[32m━━━━━━━━━━━━━━━━━━━━\u001b[0m\u001b[37m\u001b[0m \u001b[1m23s\u001b[0m 5s/step - accuracy: 0.8794 - loss: 0.2668 - val_accuracy: 0.5185 - val_loss: 3190.8865\n",
      "Epoch 18/30\n",
      "\u001b[1m4/4\u001b[0m \u001b[32m━━━━━━━━━━━━━━━━━━━━\u001b[0m\u001b[37m\u001b[0m \u001b[1m22s\u001b[0m 5s/step - accuracy: 0.8824 - loss: 0.2933 - val_accuracy: 0.5185 - val_loss: 1314.5763\n",
      "Epoch 19/30\n",
      "\u001b[1m4/4\u001b[0m \u001b[32m━━━━━━━━━━━━━━━━━━━━\u001b[0m\u001b[37m\u001b[0m \u001b[1m24s\u001b[0m 6s/step - accuracy: 0.9035 - loss: 0.3084 - val_accuracy: 0.5185 - val_loss: 712.6367\n",
      "Epoch 20/30\n",
      "\u001b[1m4/4\u001b[0m \u001b[32m━━━━━━━━━━━━━━━━━━━━\u001b[0m\u001b[37m\u001b[0m \u001b[1m26s\u001b[0m 6s/step - accuracy: 0.9124 - loss: 0.2536 - val_accuracy: 0.5185 - val_loss: 497.7406\n",
      "Epoch 21/30\n",
      "\u001b[1m4/4\u001b[0m \u001b[32m━━━━━━━━━━━━━━━━━━━━\u001b[0m\u001b[37m\u001b[0m \u001b[1m24s\u001b[0m 6s/step - accuracy: 0.8852 - loss: 0.2730 - val_accuracy: 0.5185 - val_loss: 391.8076\n",
      "Epoch 22/30\n",
      "\u001b[1m4/4\u001b[0m \u001b[32m━━━━━━━━━━━━━━━━━━━━\u001b[0m\u001b[37m\u001b[0m \u001b[1m23s\u001b[0m 6s/step - accuracy: 0.8858 - loss: 0.4244 - val_accuracy: 0.5185 - val_loss: 180.5816\n",
      "Epoch 23/30\n",
      "\u001b[1m4/4\u001b[0m \u001b[32m━━━━━━━━━━━━━━━━━━━━\u001b[0m\u001b[37m\u001b[0m \u001b[1m23s\u001b[0m 5s/step - accuracy: 0.9003 - loss: 0.2645 - val_accuracy: 0.5185 - val_loss: 75.7335\n",
      "Epoch 24/30\n",
      "\u001b[1m4/4\u001b[0m \u001b[32m━━━━━━━━━━━━━━━━━━━━\u001b[0m\u001b[37m\u001b[0m \u001b[1m22s\u001b[0m 5s/step - accuracy: 0.9055 - loss: 0.2549 - val_accuracy: 0.5185 - val_loss: 23.7997\n",
      "Epoch 25/30\n",
      "\u001b[1m4/4\u001b[0m \u001b[32m━━━━━━━━━━━━━━━━━━━━\u001b[0m\u001b[37m\u001b[0m \u001b[1m23s\u001b[0m 5s/step - accuracy: 0.9059 - loss: 0.3439 - val_accuracy: 0.4815 - val_loss: 22.1171\n",
      "Epoch 26/30\n",
      "\u001b[1m4/4\u001b[0m \u001b[32m━━━━━━━━━━━━━━━━━━━━\u001b[0m\u001b[37m\u001b[0m \u001b[1m23s\u001b[0m 6s/step - accuracy: 0.9588 - loss: 0.1696 - val_accuracy: 0.4815 - val_loss: 37.0437\n",
      "Epoch 27/30\n",
      "\u001b[1m4/4\u001b[0m \u001b[32m━━━━━━━━━━━━━━━━━━━━\u001b[0m\u001b[37m\u001b[0m \u001b[1m23s\u001b[0m 5s/step - accuracy: 0.9054 - loss: 0.2843 - val_accuracy: 0.4815 - val_loss: 34.9898\n",
      "Epoch 28/30\n",
      "\u001b[1m4/4\u001b[0m \u001b[32m━━━━━━━━━━━━━━━━━━━━\u001b[0m\u001b[37m\u001b[0m \u001b[1m23s\u001b[0m 6s/step - accuracy: 0.9597 - loss: 0.1339 - val_accuracy: 0.4815 - val_loss: 29.8518\n",
      "Epoch 29/30\n",
      "\u001b[1m4/4\u001b[0m \u001b[32m━━━━━━━━━━━━━━━━━━━━\u001b[0m\u001b[37m\u001b[0m \u001b[1m23s\u001b[0m 5s/step - accuracy: 0.9519 - loss: 0.1465 - val_accuracy: 0.4815 - val_loss: 27.0122\n",
      "Epoch 30/30\n",
      "\u001b[1m4/4\u001b[0m \u001b[32m━━━━━━━━━━━━━━━━━━━━\u001b[0m\u001b[37m\u001b[0m \u001b[1m24s\u001b[0m 6s/step - accuracy: 0.9526 - loss: 0.0975 - val_accuracy: 0.4815 - val_loss: 22.3940\n",
      "\u001b[1m1/1\u001b[0m \u001b[32m━━━━━━━━━━━━━━━━━━━━\u001b[0m\u001b[37m\u001b[0m \u001b[1m1s\u001b[0m 1s/step - accuracy: 0.4815 - loss: 22.4482\n",
      "Test Accuracy for fine-tuned ResNet50: 48.15%\n",
      "Test Loss for fine-tuned ResNet50: 22.4482\n"
     ]
    }
   ],
   "source": [
    "# Load the pre-trained ResNet50 model\n",
    "resnet_model = ResNet50(weights='imagenet', include_top=False, input_shape=(128, 128, 3))\n",
    "\n",
    "# Unfreeze the last few layers for fine-tuning\n",
    "for layer in resnet_model.layers[-8:]:\n",
    "    layer.trainable = True\n",
    "\n",
    "# Add custom classification layers\n",
    "resnet_model = models.Sequential([\n",
    "    resnet_model,\n",
    "    layers.Flatten(),\n",
    "    layers.Dense(128, activation='relu'),\n",
    "    layers.Dropout(0.5),\n",
    "    layers.Dense(1, activation='sigmoid')\n",
    "])\n",
    "\n",
    "# Compile the ResNet50 model\n",
    "resnet_model.compile(optimizer='adam', loss='binary_crossentropy', metrics=['accuracy'])\n",
    "\n",
    "# Train the ResNet50 model\n",
    "history_resnet = resnet_model.fit(datagen.flow(train_data, train_labels, batch_size=32), epochs=30, validation_data=(val_data, val_labels))\n",
    "\n",
    "# Evaluate the fine-tuned ResNet50 model on the test set\n",
    "test_loss_resnet, test_accuracy_resnet = resnet_model.evaluate(test_data, test_labels)\n",
    "print(f\"Test Accuracy for fine-tuned ResNet50: {test_accuracy_resnet * 100:.2f}%\")\n",
    "print(f\"Test Loss for fine-tuned ResNet50: {test_loss_resnet:.4f}\")\n"
   ]
  },
  {
   "cell_type": "code",
   "execution_count": 44,
   "id": "bdec8935",
   "metadata": {},
   "outputs": [],
   "source": [
    "from tensorflow.keras.optimizers import Adam\n",
    "\n",
    "# Compile with a lower learning rate\n",
    "resnet_model.compile(optimizer=Adam(learning_rate=0.000001),  # Very low learning rate\n",
    "                     loss='binary_crossentropy',\n",
    "                     metrics=['accuracy'])\n"
   ]
  },
  {
   "cell_type": "code",
   "execution_count": 45,
   "id": "a9db1e28",
   "metadata": {},
   "outputs": [
    {
     "name": "stdout",
     "output_type": "stream",
     "text": [
      "Epoch 1/30\n",
      "\u001b[1m4/4\u001b[0m \u001b[32m━━━━━━━━━━━━━━━━━━━━\u001b[0m\u001b[37m\u001b[0m \u001b[1m95s\u001b[0m 8s/step - accuracy: 0.9525 - loss: 0.1436 - val_accuracy: 0.4815 - val_loss: 21.1544\n",
      "Epoch 2/30\n",
      "\u001b[1m4/4\u001b[0m \u001b[32m━━━━━━━━━━━━━━━━━━━━\u001b[0m\u001b[37m\u001b[0m \u001b[1m22s\u001b[0m 5s/step - accuracy: 0.9310 - loss: 0.1135 - val_accuracy: 0.4815 - val_loss: 19.4868\n",
      "Epoch 3/30\n",
      "\u001b[1m4/4\u001b[0m \u001b[32m━━━━━━━━━━━━━━━━━━━━\u001b[0m\u001b[37m\u001b[0m \u001b[1m28s\u001b[0m 7s/step - accuracy: 0.9653 - loss: 0.0630 - val_accuracy: 0.4815 - val_loss: 18.1129\n",
      "Epoch 4/30\n",
      "\u001b[1m4/4\u001b[0m \u001b[32m━━━━━━━━━━━━━━━━━━━━\u001b[0m\u001b[37m\u001b[0m \u001b[1m25s\u001b[0m 6s/step - accuracy: 0.9641 - loss: 0.1294 - val_accuracy: 0.4815 - val_loss: 16.9936\n",
      "Epoch 5/30\n",
      "\u001b[1m4/4\u001b[0m \u001b[32m━━━━━━━━━━━━━━━━━━━━\u001b[0m\u001b[37m\u001b[0m \u001b[1m24s\u001b[0m 6s/step - accuracy: 0.9594 - loss: 0.1110 - val_accuracy: 0.4815 - val_loss: 15.8803\n",
      "Epoch 6/30\n",
      "\u001b[1m4/4\u001b[0m \u001b[32m━━━━━━━━━━━━━━━━━━━━\u001b[0m\u001b[37m\u001b[0m \u001b[1m25s\u001b[0m 6s/step - accuracy: 0.9557 - loss: 0.1612 - val_accuracy: 0.4815 - val_loss: 14.8204\n",
      "Epoch 7/30\n",
      "\u001b[1m4/4\u001b[0m \u001b[32m━━━━━━━━━━━━━━━━━━━━\u001b[0m\u001b[37m\u001b[0m \u001b[1m30s\u001b[0m 7s/step - accuracy: 0.9536 - loss: 0.1582 - val_accuracy: 0.4815 - val_loss: 13.7327\n",
      "Epoch 8/30\n",
      "\u001b[1m4/4\u001b[0m \u001b[32m━━━━━━━━━━━━━━━━━━━━\u001b[0m\u001b[37m\u001b[0m \u001b[1m31s\u001b[0m 7s/step - accuracy: 0.9285 - loss: 0.1986 - val_accuracy: 0.4815 - val_loss: 12.7331\n",
      "Epoch 9/30\n",
      "\u001b[1m4/4\u001b[0m \u001b[32m━━━━━━━━━━━━━━━━━━━━\u001b[0m\u001b[37m\u001b[0m \u001b[1m37s\u001b[0m 8s/step - accuracy: 0.9683 - loss: 0.1123 - val_accuracy: 0.4815 - val_loss: 11.7702\n",
      "Epoch 10/30\n",
      "\u001b[1m4/4\u001b[0m \u001b[32m━━━━━━━━━━━━━━━━━━━━\u001b[0m\u001b[37m\u001b[0m \u001b[1m25s\u001b[0m 6s/step - accuracy: 0.9515 - loss: 0.1383 - val_accuracy: 0.4815 - val_loss: 10.9013\n",
      "Epoch 11/30\n",
      "\u001b[1m4/4\u001b[0m \u001b[32m━━━━━━━━━━━━━━━━━━━━\u001b[0m\u001b[37m\u001b[0m \u001b[1m28s\u001b[0m 7s/step - accuracy: 0.9495 - loss: 0.2659 - val_accuracy: 0.4815 - val_loss: 10.2315\n",
      "Epoch 12/30\n",
      "\u001b[1m4/4\u001b[0m \u001b[32m━━━━━━━━━━━━━━━━━━━━\u001b[0m\u001b[37m\u001b[0m \u001b[1m34s\u001b[0m 7s/step - accuracy: 0.9799 - loss: 0.0736 - val_accuracy: 0.4815 - val_loss: 9.5824\n",
      "Epoch 13/30\n",
      "\u001b[1m4/4\u001b[0m \u001b[32m━━━━━━━━━━━━━━━━━━━━\u001b[0m\u001b[37m\u001b[0m \u001b[1m27s\u001b[0m 6s/step - accuracy: 0.9691 - loss: 0.1560 - val_accuracy: 0.4815 - val_loss: 9.0012\n",
      "Epoch 14/30\n",
      "\u001b[1m4/4\u001b[0m \u001b[32m━━━━━━━━━━━━━━━━━━━━\u001b[0m\u001b[37m\u001b[0m \u001b[1m24s\u001b[0m 6s/step - accuracy: 0.9506 - loss: 0.1641 - val_accuracy: 0.4815 - val_loss: 8.4443\n",
      "Epoch 15/30\n",
      "\u001b[1m4/4\u001b[0m \u001b[32m━━━━━━━━━━━━━━━━━━━━\u001b[0m\u001b[37m\u001b[0m \u001b[1m41s\u001b[0m 6s/step - accuracy: 0.8917 - loss: 0.2755 - val_accuracy: 0.4815 - val_loss: 7.9975\n",
      "Epoch 16/30\n",
      "\u001b[1m4/4\u001b[0m \u001b[32m━━━━━━━━━━━━━━━━━━━━\u001b[0m\u001b[37m\u001b[0m \u001b[1m23s\u001b[0m 6s/step - accuracy: 0.9223 - loss: 0.1202 - val_accuracy: 0.4815 - val_loss: 7.4826\n",
      "Epoch 17/30\n",
      "\u001b[1m4/4\u001b[0m \u001b[32m━━━━━━━━━━━━━━━━━━━━\u001b[0m\u001b[37m\u001b[0m \u001b[1m23s\u001b[0m 6s/step - accuracy: 0.9111 - loss: 0.2219 - val_accuracy: 0.4815 - val_loss: 7.0173\n",
      "Epoch 18/30\n",
      "\u001b[1m4/4\u001b[0m \u001b[32m━━━━━━━━━━━━━━━━━━━━\u001b[0m\u001b[37m\u001b[0m \u001b[1m24s\u001b[0m 6s/step - accuracy: 0.9242 - loss: 0.1395 - val_accuracy: 0.4815 - val_loss: 6.4863\n",
      "Epoch 19/30\n",
      "\u001b[1m4/4\u001b[0m \u001b[32m━━━━━━━━━━━━━━━━━━━━\u001b[0m\u001b[37m\u001b[0m \u001b[1m23s\u001b[0m 6s/step - accuracy: 0.9598 - loss: 0.0988 - val_accuracy: 0.4815 - val_loss: 6.0293\n",
      "Epoch 20/30\n",
      "\u001b[1m4/4\u001b[0m \u001b[32m━━━━━━━━━━━━━━━━━━━━\u001b[0m\u001b[37m\u001b[0m \u001b[1m32s\u001b[0m 7s/step - accuracy: 0.9482 - loss: 0.1479 - val_accuracy: 0.4815 - val_loss: 5.5759\n",
      "Epoch 21/30\n",
      "\u001b[1m4/4\u001b[0m \u001b[32m━━━━━━━━━━━━━━━━━━━━\u001b[0m\u001b[37m\u001b[0m \u001b[1m25s\u001b[0m 6s/step - accuracy: 0.9290 - loss: 0.2281 - val_accuracy: 0.4815 - val_loss: 5.1204\n",
      "Epoch 22/30\n",
      "\u001b[1m4/4\u001b[0m \u001b[32m━━━━━━━━━━━━━━━━━━━━\u001b[0m\u001b[37m\u001b[0m \u001b[1m24s\u001b[0m 6s/step - accuracy: 0.9357 - loss: 0.3377 - val_accuracy: 0.4815 - val_loss: 4.6437\n",
      "Epoch 23/30\n",
      "\u001b[1m4/4\u001b[0m \u001b[32m━━━━━━━━━━━━━━━━━━━━\u001b[0m\u001b[37m\u001b[0m \u001b[1m24s\u001b[0m 6s/step - accuracy: 0.9590 - loss: 0.1237 - val_accuracy: 0.4815 - val_loss: 4.2019\n",
      "Epoch 24/30\n",
      "\u001b[1m4/4\u001b[0m \u001b[32m━━━━━━━━━━━━━━━━━━━━\u001b[0m\u001b[37m\u001b[0m \u001b[1m24s\u001b[0m 6s/step - accuracy: 0.9521 - loss: 0.1128 - val_accuracy: 0.4815 - val_loss: 3.7677\n",
      "Epoch 25/30\n",
      "\u001b[1m4/4\u001b[0m \u001b[32m━━━━━━━━━━━━━━━━━━━━\u001b[0m\u001b[37m\u001b[0m \u001b[1m24s\u001b[0m 6s/step - accuracy: 0.9506 - loss: 0.1750 - val_accuracy: 0.4815 - val_loss: 3.3686\n",
      "Epoch 26/30\n",
      "\u001b[1m4/4\u001b[0m \u001b[32m━━━━━━━━━━━━━━━━━━━━\u001b[0m\u001b[37m\u001b[0m \u001b[1m24s\u001b[0m 6s/step - accuracy: 0.9143 - loss: 0.1449 - val_accuracy: 0.4815 - val_loss: 2.9281\n",
      "Epoch 27/30\n",
      "\u001b[1m4/4\u001b[0m \u001b[32m━━━━━━━━━━━━━━━━━━━━\u001b[0m\u001b[37m\u001b[0m \u001b[1m24s\u001b[0m 6s/step - accuracy: 0.9391 - loss: 0.1623 - val_accuracy: 0.4815 - val_loss: 2.5336\n",
      "Epoch 28/30\n",
      "\u001b[1m4/4\u001b[0m \u001b[32m━━━━━━━━━━━━━━━━━━━━\u001b[0m\u001b[37m\u001b[0m \u001b[1m24s\u001b[0m 6s/step - accuracy: 0.9517 - loss: 0.1423 - val_accuracy: 0.4815 - val_loss: 2.1856\n",
      "Epoch 29/30\n",
      "\u001b[1m4/4\u001b[0m \u001b[32m━━━━━━━━━━━━━━━━━━━━\u001b[0m\u001b[37m\u001b[0m \u001b[1m22s\u001b[0m 6s/step - accuracy: 0.9415 - loss: 0.1049 - val_accuracy: 0.4815 - val_loss: 1.8456\n",
      "Epoch 30/30\n",
      "\u001b[1m4/4\u001b[0m \u001b[32m━━━━━━━━━━━━━━━━━━━━\u001b[0m\u001b[37m\u001b[0m \u001b[1m22s\u001b[0m 5s/step - accuracy: 0.9534 - loss: 0.1131 - val_accuracy: 0.4815 - val_loss: 1.5550\n"
     ]
    }
   ],
   "source": [
    "from tensorflow.keras.callbacks import EarlyStopping\n",
    "\n",
    "early_stopping = EarlyStopping(monitor='val_loss', patience=5, restore_best_weights=True)\n",
    "\n",
    "# Train with early stopping\n",
    "history_resnet = resnet_model.fit(\n",
    "    datagen.flow(train_data, train_labels, batch_size=32),\n",
    "    epochs=30,\n",
    "    validation_data=(val_data, val_labels),\n",
    "    callbacks=[early_stopping]\n",
    ")\n"
   ]
  },
  {
   "cell_type": "code",
   "execution_count": 46,
   "id": "894c4371",
   "metadata": {},
   "outputs": [],
   "source": [
    "# Modify the model to include additional dropout layers\n",
    "resnet_model = models.Sequential([\n",
    "    resnet_model,\n",
    "    layers.Flatten(),\n",
    "    layers.Dense(128, activation='relu'),\n",
    "    layers.Dropout(0.6),  # Increase dropout rate\n",
    "    layers.Dense(1, activation='sigmoid')\n",
    "])\n"
   ]
  },
  {
   "cell_type": "markdown",
   "id": "a7716e30",
   "metadata": {},
   "source": [
    "ENDING EXPERIMENTING WITH OTHER MODELS, RETURNING TO VGG16 MODEL TO FINE TUNE THIS MODEL......"
   ]
  },
  {
   "cell_type": "code",
   "execution_count": 47,
   "id": "deef7c07",
   "metadata": {},
   "outputs": [
    {
     "name": "stdout",
     "output_type": "stream",
     "text": [
      "Epoch 1/30\n",
      "\u001b[1m4/4\u001b[0m \u001b[32m━━━━━━━━━━━━━━━━━━━━\u001b[0m\u001b[37m\u001b[0m \u001b[1m60s\u001b[0m 13s/step - accuracy: 0.4833 - loss: 0.7696 - val_accuracy: 0.6667 - val_loss: 0.6326\n",
      "Epoch 2/30\n",
      "\u001b[1m4/4\u001b[0m \u001b[32m━━━━━━━━━━━━━━━━━━━━\u001b[0m\u001b[37m\u001b[0m \u001b[1m47s\u001b[0m 12s/step - accuracy: 0.5960 - loss: 0.6943 - val_accuracy: 0.7037 - val_loss: 0.5967\n",
      "Epoch 3/30\n",
      "\u001b[1m4/4\u001b[0m \u001b[32m━━━━━━━━━━━━━━━━━━━━\u001b[0m\u001b[37m\u001b[0m \u001b[1m46s\u001b[0m 12s/step - accuracy: 0.6756 - loss: 0.6172 - val_accuracy: 0.7778 - val_loss: 0.5613\n",
      "Epoch 4/30\n",
      "\u001b[1m4/4\u001b[0m \u001b[32m━━━━━━━━━━━━━━━━━━━━\u001b[0m\u001b[37m\u001b[0m \u001b[1m47s\u001b[0m 12s/step - accuracy: 0.5834 - loss: 0.7004 - val_accuracy: 0.7778 - val_loss: 0.5261\n",
      "Epoch 5/30\n",
      "\u001b[1m4/4\u001b[0m \u001b[32m━━━━━━━━━━━━━━━━━━━━\u001b[0m\u001b[37m\u001b[0m \u001b[1m48s\u001b[0m 12s/step - accuracy: 0.5997 - loss: 0.6506 - val_accuracy: 0.7778 - val_loss: 0.5035\n",
      "Epoch 6/30\n",
      "\u001b[1m4/4\u001b[0m \u001b[32m━━━━━━━━━━━━━━━━━━━━\u001b[0m\u001b[37m\u001b[0m \u001b[1m46s\u001b[0m 11s/step - accuracy: 0.7527 - loss: 0.5040 - val_accuracy: 0.8519 - val_loss: 0.4587\n",
      "Epoch 7/30\n",
      "\u001b[1m4/4\u001b[0m \u001b[32m━━━━━━━━━━━━━━━━━━━━\u001b[0m\u001b[37m\u001b[0m \u001b[1m46s\u001b[0m 11s/step - accuracy: 0.7435 - loss: 0.5294 - val_accuracy: 0.8519 - val_loss: 0.4263\n",
      "Epoch 8/30\n",
      "\u001b[1m4/4\u001b[0m \u001b[32m━━━━━━━━━━━━━━━━━━━━\u001b[0m\u001b[37m\u001b[0m \u001b[1m46s\u001b[0m 11s/step - accuracy: 0.7689 - loss: 0.4917 - val_accuracy: 0.8148 - val_loss: 0.4095\n",
      "Epoch 9/30\n",
      "\u001b[1m4/4\u001b[0m \u001b[32m━━━━━━━━━━━━━━━━━━━━\u001b[0m\u001b[37m\u001b[0m \u001b[1m46s\u001b[0m 11s/step - accuracy: 0.8038 - loss: 0.4787 - val_accuracy: 0.8519 - val_loss: 0.3900\n",
      "Epoch 10/30\n",
      "\u001b[1m4/4\u001b[0m \u001b[32m━━━━━━━━━━━━━━━━━━━━\u001b[0m\u001b[37m\u001b[0m \u001b[1m48s\u001b[0m 12s/step - accuracy: 0.8454 - loss: 0.4073 - val_accuracy: 0.8148 - val_loss: 0.4017\n",
      "Epoch 11/30\n",
      "\u001b[1m4/4\u001b[0m \u001b[32m━━━━━━━━━━━━━━━━━━━━\u001b[0m\u001b[37m\u001b[0m \u001b[1m47s\u001b[0m 12s/step - accuracy: 0.8646 - loss: 0.3475 - val_accuracy: 0.8519 - val_loss: 0.3871\n",
      "Epoch 12/30\n",
      "\u001b[1m4/4\u001b[0m \u001b[32m━━━━━━━━━━━━━━━━━━━━\u001b[0m\u001b[37m\u001b[0m \u001b[1m68s\u001b[0m 19s/step - accuracy: 0.7874 - loss: 0.4137 - val_accuracy: 0.8519 - val_loss: 0.3933\n",
      "Epoch 13/30\n",
      "\u001b[1m4/4\u001b[0m \u001b[32m━━━━━━━━━━━━━━━━━━━━\u001b[0m\u001b[37m\u001b[0m \u001b[1m71s\u001b[0m 17s/step - accuracy: 0.8853 - loss: 0.2666 - val_accuracy: 0.8148 - val_loss: 0.3936\n",
      "Epoch 14/30\n",
      "\u001b[1m4/4\u001b[0m \u001b[32m━━━━━━━━━━━━━━━━━━━━\u001b[0m\u001b[37m\u001b[0m \u001b[1m58s\u001b[0m 15s/step - accuracy: 0.8666 - loss: 0.2848 - val_accuracy: 0.8148 - val_loss: 0.4790\n",
      "Epoch 15/30\n",
      "\u001b[1m4/4\u001b[0m \u001b[32m━━━━━━━━━━━━━━━━━━━━\u001b[0m\u001b[37m\u001b[0m \u001b[1m60s\u001b[0m 15s/step - accuracy: 0.8890 - loss: 0.2892 - val_accuracy: 0.8148 - val_loss: 0.5067\n",
      "Epoch 16/30\n",
      "\u001b[1m4/4\u001b[0m \u001b[32m━━━━━━━━━━━━━━━━━━━━\u001b[0m\u001b[37m\u001b[0m \u001b[1m59s\u001b[0m 15s/step - accuracy: 0.8437 - loss: 0.2842 - val_accuracy: 0.8148 - val_loss: 0.4413\n",
      "\u001b[1m1/1\u001b[0m \u001b[32m━━━━━━━━━━━━━━━━━━━━\u001b[0m\u001b[37m\u001b[0m \u001b[1m2s\u001b[0m 2s/step - accuracy: 0.8148 - loss: 0.4351\n",
      "Test Accuracy for fine-tuned VGG16: 81.48%\n",
      "Test Loss for fine-tuned VGG16: 0.4351\n"
     ]
    }
   ],
   "source": [
    "from tensorflow.keras.applications import VGG16\n",
    "from tensorflow.keras import layers, models\n",
    "from tensorflow.keras.optimizers import Adam\n",
    "from tensorflow.keras.callbacks import EarlyStopping\n",
    "\n",
    "# Load pre-trained VGG16 model\n",
    "vgg_model = VGG16(weights='imagenet', include_top=False, input_shape=(128, 128, 3))\n",
    "\n",
    "# Unfreeze the last 10 layers for further fine-tuning\n",
    "for layer in vgg_model.layers[-10:]:\n",
    "    layer.trainable = True\n",
    "\n",
    "# Add custom classification layers\n",
    "vgg_model = models.Sequential([\n",
    "    vgg_model,\n",
    "    layers.Flatten(),\n",
    "    layers.Dense(128, activation='relu'),\n",
    "    layers.Dropout(0.5),  # Regularization to prevent overfitting\n",
    "    layers.Dense(1, activation='sigmoid')  # Binary classification\n",
    "])\n",
    "\n",
    "# Compile the model with a lower learning rate\n",
    "vgg_model.compile(optimizer=Adam(learning_rate=0.00001),  # Small learning rate\n",
    "                  loss='binary_crossentropy',\n",
    "                  metrics=['accuracy'])\n",
    "\n",
    "# Set up early stopping to prevent overfitting\n",
    "early_stopping = EarlyStopping(monitor='val_loss', patience=5, restore_best_weights=True)\n",
    "\n",
    "# Train the fine-tuned VGG16 model with data augmentation\n",
    "history_vgg_finetune = vgg_model.fit(\n",
    "    datagen.flow(train_data, train_labels, batch_size=32),\n",
    "    epochs=30,\n",
    "    validation_data=(val_data, val_labels),\n",
    "    callbacks=[early_stopping]\n",
    ")\n",
    "\n",
    "# Evaluate the model on the test set\n",
    "test_loss_vgg, test_accuracy_vgg = vgg_model.evaluate(test_data, test_labels)\n",
    "print(f\"Test Accuracy for fine-tuned VGG16: {test_accuracy_vgg * 100:.2f}%\")\n",
    "print(f\"Test Loss for fine-tuned VGG16: {test_loss_vgg:.4f}\")\n"
   ]
  },
  {
   "cell_type": "code",
   "execution_count": 49,
   "id": "27375d29",
   "metadata": {},
   "outputs": [],
   "source": [
    "# Save the fine-tuned VGG16 model in the recommended native Keras format\n",
    "vgg_model.save('fine_tuned_vgg16_model.keras')\n"
   ]
  },
  {
   "cell_type": "code",
   "execution_count": 50,
   "id": "b38adc30",
   "metadata": {},
   "outputs": [
    {
     "name": "stdout",
     "output_type": "stream",
     "text": [
      "Epoch 1/30\n",
      "\u001b[1m2/2\u001b[0m \u001b[32m━━━━━━━━━━━━━━━━━━━━\u001b[0m\u001b[37m\u001b[0m \u001b[1m88s\u001b[0m 47s/step - accuracy: 0.6087 - loss: 0.9354 - val_accuracy: 0.5556 - val_loss: 0.9352\n",
      "Epoch 2/30\n",
      "\u001b[1m2/2\u001b[0m \u001b[32m━━━━━━━━━━━━━━━━━━━━\u001b[0m\u001b[37m\u001b[0m \u001b[1m77s\u001b[0m 32s/step - accuracy: 0.5537 - loss: 0.9856 - val_accuracy: 0.5556 - val_loss: 0.9301\n",
      "Epoch 3/30\n",
      "\u001b[1m2/2\u001b[0m \u001b[32m━━━━━━━━━━━━━━━━━━━━\u001b[0m\u001b[37m\u001b[0m \u001b[1m72s\u001b[0m 35s/step - accuracy: 0.5394 - loss: 0.9354 - val_accuracy: 0.5185 - val_loss: 0.9263\n",
      "Epoch 4/30\n",
      "\u001b[1m2/2\u001b[0m \u001b[32m━━━━━━━━━━━━━━━━━━━━\u001b[0m\u001b[37m\u001b[0m \u001b[1m66s\u001b[0m 32s/step - accuracy: 0.5240 - loss: 0.9518 - val_accuracy: 0.5185 - val_loss: 0.9232\n",
      "Epoch 5/30\n",
      "\u001b[1m2/2\u001b[0m \u001b[32m━━━━━━━━━━━━━━━━━━━━\u001b[0m\u001b[37m\u001b[0m \u001b[1m77s\u001b[0m 47s/step - accuracy: 0.6400 - loss: 0.9042 - val_accuracy: 0.5185 - val_loss: 0.9196\n",
      "Epoch 6/30\n",
      "\u001b[1m2/2\u001b[0m \u001b[32m━━━━━━━━━━━━━━━━━━━━\u001b[0m\u001b[37m\u001b[0m \u001b[1m158s\u001b[0m 74s/step - accuracy: 0.6034 - loss: 0.9600 - val_accuracy: 0.5185 - val_loss: 0.9160\n",
      "Epoch 7/30\n",
      "\u001b[1m2/2\u001b[0m \u001b[32m━━━━━━━━━━━━━━━━━━━━\u001b[0m\u001b[37m\u001b[0m \u001b[1m88s\u001b[0m 41s/step - accuracy: 0.5505 - loss: 0.9696 - val_accuracy: 0.5556 - val_loss: 0.9127\n",
      "Epoch 8/30\n",
      "\u001b[1m2/2\u001b[0m \u001b[32m━━━━━━━━━━━━━━━━━━━━\u001b[0m\u001b[37m\u001b[0m \u001b[1m67s\u001b[0m 32s/step - accuracy: 0.5400 - loss: 0.9501 - val_accuracy: 0.5926 - val_loss: 0.9098\n",
      "Epoch 9/30\n",
      "\u001b[1m2/2\u001b[0m \u001b[32m━━━━━━━━━━━━━━━━━━━━\u001b[0m\u001b[37m\u001b[0m \u001b[1m58s\u001b[0m 27s/step - accuracy: 0.4924 - loss: 0.9566 - val_accuracy: 0.5926 - val_loss: 0.9069\n",
      "Epoch 10/30\n",
      "\u001b[1m2/2\u001b[0m \u001b[32m━━━━━━━━━━━━━━━━━━━━\u001b[0m\u001b[37m\u001b[0m \u001b[1m54s\u001b[0m 29s/step - accuracy: 0.5664 - loss: 0.9363 - val_accuracy: 0.6296 - val_loss: 0.9041\n",
      "Epoch 11/30\n",
      "\u001b[1m2/2\u001b[0m \u001b[32m━━━━━━━━━━━━━━━━━━━━\u001b[0m\u001b[37m\u001b[0m \u001b[1m66s\u001b[0m 41s/step - accuracy: 0.5822 - loss: 0.9355 - val_accuracy: 0.6296 - val_loss: 0.9007\n",
      "Epoch 12/30\n",
      "\u001b[1m2/2\u001b[0m \u001b[32m━━━━━━━━━━━━━━━━━━━━\u001b[0m\u001b[37m\u001b[0m \u001b[1m82s\u001b[0m 42s/step - accuracy: 0.6400 - loss: 0.9025 - val_accuracy: 0.6296 - val_loss: 0.8973\n",
      "Epoch 13/30\n",
      "\u001b[1m2/2\u001b[0m \u001b[32m━━━━━━━━━━━━━━━━━━━━\u001b[0m\u001b[37m\u001b[0m \u001b[1m113s\u001b[0m 78s/step - accuracy: 0.5103 - loss: 0.9594 - val_accuracy: 0.6296 - val_loss: 0.8936\n",
      "Epoch 14/30\n",
      "\u001b[1m2/2\u001b[0m \u001b[32m━━━━━━━━━━━━━━━━━━━━\u001b[0m\u001b[37m\u001b[0m \u001b[1m122s\u001b[0m 43s/step - accuracy: 0.5081 - loss: 0.9810 - val_accuracy: 0.6667 - val_loss: 0.8897\n",
      "Epoch 15/30\n",
      "\u001b[1m2/2\u001b[0m \u001b[32m━━━━━━━━━━━━━━━━━━━━\u001b[0m\u001b[37m\u001b[0m \u001b[1m69s\u001b[0m 34s/step - accuracy: 0.6182 - loss: 0.9250 - val_accuracy: 0.6667 - val_loss: 0.8858\n",
      "Epoch 16/30\n",
      "\u001b[1m2/2\u001b[0m \u001b[32m━━━━━━━━━━━━━━━━━━━━\u001b[0m\u001b[37m\u001b[0m \u001b[1m75s\u001b[0m 43s/step - accuracy: 0.5265 - loss: 0.9382 - val_accuracy: 0.6667 - val_loss: 0.8818\n",
      "Epoch 17/30\n",
      "\u001b[1m2/2\u001b[0m \u001b[32m━━━━━━━━━━━━━━━━━━━━\u001b[0m\u001b[37m\u001b[0m \u001b[1m55s\u001b[0m 27s/step - accuracy: 0.5606 - loss: 0.9398 - val_accuracy: 0.6667 - val_loss: 0.8780\n",
      "Epoch 18/30\n",
      "\u001b[1m2/2\u001b[0m \u001b[32m━━━━━━━━━━━━━━━━━━━━\u001b[0m\u001b[37m\u001b[0m \u001b[1m50s\u001b[0m 27s/step - accuracy: 0.6559 - loss: 0.8804 - val_accuracy: 0.6667 - val_loss: 0.8743\n",
      "Epoch 19/30\n",
      "\u001b[1m2/2\u001b[0m \u001b[32m━━━━━━━━━━━━━━━━━━━━\u001b[0m\u001b[37m\u001b[0m \u001b[1m60s\u001b[0m 37s/step - accuracy: 0.5698 - loss: 0.9271 - val_accuracy: 0.6667 - val_loss: 0.8707\n",
      "Epoch 20/30\n",
      "\u001b[1m2/2\u001b[0m \u001b[32m━━━━━━━━━━━━━━━━━━━━\u001b[0m\u001b[37m\u001b[0m \u001b[1m138s\u001b[0m 79s/step - accuracy: 0.6238 - loss: 0.9037 - val_accuracy: 0.6667 - val_loss: 0.8671\n",
      "Epoch 21/30\n",
      "\u001b[1m2/2\u001b[0m \u001b[32m━━━━━━━━━━━━━━━━━━━━\u001b[0m\u001b[37m\u001b[0m \u001b[1m81s\u001b[0m 40s/step - accuracy: 0.6186 - loss: 0.9010 - val_accuracy: 0.6667 - val_loss: 0.8633\n",
      "Epoch 22/30\n",
      "\u001b[1m2/2\u001b[0m \u001b[32m━━━━━━━━━━━━━━━━━━━━\u001b[0m\u001b[37m\u001b[0m \u001b[1m61s\u001b[0m 34s/step - accuracy: 0.5806 - loss: 0.9101 - val_accuracy: 0.6667 - val_loss: 0.8596\n",
      "Epoch 23/30\n",
      "\u001b[1m2/2\u001b[0m \u001b[32m━━━━━━━━━━━━━━━━━━━━\u001b[0m\u001b[37m\u001b[0m \u001b[1m64s\u001b[0m 27s/step - accuracy: 0.6355 - loss: 0.8893 - val_accuracy: 0.6667 - val_loss: 0.8558\n",
      "Epoch 24/30\n",
      "\u001b[1m2/2\u001b[0m \u001b[32m━━━━━━━━━━━━━━━━━━━━\u001b[0m\u001b[37m\u001b[0m \u001b[1m55s\u001b[0m 28s/step - accuracy: 0.5931 - loss: 0.9521 - val_accuracy: 0.7037 - val_loss: 0.8519\n",
      "Epoch 25/30\n",
      "\u001b[1m2/2\u001b[0m \u001b[32m━━━━━━━━━━━━━━━━━━━━\u001b[0m\u001b[37m\u001b[0m \u001b[1m53s\u001b[0m 28s/step - accuracy: 0.6830 - loss: 0.8589 - val_accuracy: 0.7037 - val_loss: 0.8481\n",
      "Epoch 26/30\n",
      "\u001b[1m2/2\u001b[0m \u001b[32m━━━━━━━━━━━━━━━━━━━━\u001b[0m\u001b[37m\u001b[0m \u001b[1m66s\u001b[0m 41s/step - accuracy: 0.6451 - loss: 0.8970 - val_accuracy: 0.7037 - val_loss: 0.8446\n",
      "Epoch 27/30\n",
      "\u001b[1m2/2\u001b[0m \u001b[32m━━━━━━━━━━━━━━━━━━━━\u001b[0m\u001b[37m\u001b[0m \u001b[1m78s\u001b[0m 39s/step - accuracy: 0.6722 - loss: 0.8524 - val_accuracy: 0.7037 - val_loss: 0.8412\n",
      "Epoch 28/30\n",
      "\u001b[1m2/2\u001b[0m \u001b[32m━━━━━━━━━━━━━━━━━━━━\u001b[0m\u001b[37m\u001b[0m \u001b[1m91s\u001b[0m 39s/step - accuracy: 0.6718 - loss: 0.8903 - val_accuracy: 0.7037 - val_loss: 0.8381\n",
      "Epoch 29/30\n",
      "\u001b[1m2/2\u001b[0m \u001b[32m━━━━━━━━━━━━━━━━━━━━\u001b[0m\u001b[37m\u001b[0m \u001b[1m71s\u001b[0m 37s/step - accuracy: 0.6452 - loss: 0.8601 - val_accuracy: 0.7037 - val_loss: 0.8349\n",
      "Epoch 30/30\n",
      "\u001b[1m2/2\u001b[0m \u001b[32m━━━━━━━━━━━━━━━━━━━━\u001b[0m\u001b[37m\u001b[0m \u001b[1m78s\u001b[0m 38s/step - accuracy: 0.6295 - loss: 0.8677 - val_accuracy: 0.7037 - val_loss: 0.8317\n",
      "\u001b[1m1/1\u001b[0m \u001b[32m━━━━━━━━━━━━━━━━━━━━\u001b[0m\u001b[37m\u001b[0m \u001b[1m3s\u001b[0m 3s/step - accuracy: 0.6667 - loss: 0.8591\n",
      "Test Accuracy after further fine-tuning: 66.67%\n",
      "Test Loss after further fine-tuning: 0.8591\n"
     ]
    }
   ],
   "source": [
    "from tensorflow.keras.regularizers import l2\n",
    "from tensorflow.keras.optimizers import Adam\n",
    "from tensorflow.keras.callbacks import EarlyStopping\n",
    "\n",
    "# Modify the model by reducing dropout and adding L2 regularization\n",
    "vgg_model = VGG16(weights='imagenet', include_top=False, input_shape=(128, 128, 3))\n",
    "\n",
    "# Unfreeze more layers for fine-tuning\n",
    "for layer in vgg_model.layers[-10:]:\n",
    "    layer.trainable = True\n",
    "\n",
    "# Add new custom layers with reduced dropout and L2 regularization\n",
    "vgg_model = models.Sequential([\n",
    "    vgg_model,\n",
    "    layers.Flatten(),\n",
    "    layers.Dense(128, activation='relu', kernel_regularizer=l2(0.001)),  # L2 regularization\n",
    "    layers.Dropout(0.3),  # Reduced dropout from 0.5 to 0.3\n",
    "    layers.Dense(1, activation='sigmoid')  # Output layer for binary classification\n",
    "])\n",
    "\n",
    "# Compile with a smaller learning rate\n",
    "vgg_model.compile(optimizer=Adam(learning_rate=0.000001),  # Further reduce learning rate\n",
    "                  loss='binary_crossentropy',\n",
    "                  metrics=['accuracy'])\n",
    "\n",
    "# Set up early stopping\n",
    "early_stopping = EarlyStopping(monitor='val_loss', patience=5, restore_best_weights=True)\n",
    "\n",
    "# Train the fine-tuned VGG16 model with the modified settings\n",
    "history_vgg_finetune = vgg_model.fit(\n",
    "    datagen.flow(train_data, train_labels, batch_size=64),  # Increased batch size\n",
    "    epochs=30,\n",
    "    validation_data=(val_data, val_labels),\n",
    "    callbacks=[early_stopping]\n",
    ")\n",
    "\n",
    "# Evaluate the model on the test set\n",
    "test_loss_vgg, test_accuracy_vgg = vgg_model.evaluate(test_data, test_labels)\n",
    "print(f\"Test Accuracy after further fine-tuning: {test_accuracy_vgg * 100:.2f}%\")\n",
    "print(f\"Test Loss after further fine-tuning: {test_loss_vgg:.4f}\")\n"
   ]
  },
  {
   "cell_type": "code",
   "execution_count": 51,
   "id": "c107ef42",
   "metadata": {},
   "outputs": [
    {
     "name": "stdout",
     "output_type": "stream",
     "text": [
      "Epoch 1/30\n",
      "\u001b[1m4/4\u001b[0m \u001b[32m━━━━━━━━━━━━━━━━━━━━\u001b[0m\u001b[37m\u001b[0m \u001b[1m76s\u001b[0m 14s/step - accuracy: 0.5215 - loss: 1.0703 - val_accuracy: 0.5185 - val_loss: 0.8146\n",
      "Epoch 2/30\n",
      "\u001b[1m4/4\u001b[0m \u001b[32m━━━━━━━━━━━━━━━━━━━━\u001b[0m\u001b[37m\u001b[0m \u001b[1m50s\u001b[0m 13s/step - accuracy: 0.5611 - loss: 0.7976 - val_accuracy: 0.6667 - val_loss: 0.7730\n",
      "Epoch 3/30\n",
      "\u001b[1m4/4\u001b[0m \u001b[32m━━━━━━━━━━━━━━━━━━━━\u001b[0m\u001b[37m\u001b[0m \u001b[1m50s\u001b[0m 13s/step - accuracy: 0.5026 - loss: 0.8866 - val_accuracy: 0.5556 - val_loss: 0.7703\n",
      "Epoch 4/30\n",
      "\u001b[1m4/4\u001b[0m \u001b[32m━━━━━━━━━━━━━━━━━━━━\u001b[0m\u001b[37m\u001b[0m \u001b[1m50s\u001b[0m 12s/step - accuracy: 0.6334 - loss: 0.7814 - val_accuracy: 0.7037 - val_loss: 0.7287\n",
      "Epoch 5/30\n",
      "\u001b[1m4/4\u001b[0m \u001b[32m━━━━━━━━━━━━━━━━━━━━\u001b[0m\u001b[37m\u001b[0m \u001b[1m49s\u001b[0m 12s/step - accuracy: 0.6398 - loss: 0.7657 - val_accuracy: 0.8519 - val_loss: 0.7004\n",
      "Epoch 6/30\n",
      "\u001b[1m4/4\u001b[0m \u001b[32m━━━━━━━━━━━━━━━━━━━━\u001b[0m\u001b[37m\u001b[0m \u001b[1m51s\u001b[0m 13s/step - accuracy: 0.6415 - loss: 0.7753 - val_accuracy: 0.8148 - val_loss: 0.6840\n",
      "Epoch 7/30\n",
      "\u001b[1m4/4\u001b[0m \u001b[32m━━━━━━━━━━━━━━━━━━━━\u001b[0m\u001b[37m\u001b[0m \u001b[1m50s\u001b[0m 12s/step - accuracy: 0.6460 - loss: 0.7382 - val_accuracy: 0.8519 - val_loss: 0.6647\n",
      "Epoch 8/30\n",
      "\u001b[1m4/4\u001b[0m \u001b[32m━━━━━━━━━━━━━━━━━━━━\u001b[0m\u001b[37m\u001b[0m \u001b[1m49s\u001b[0m 12s/step - accuracy: 0.6570 - loss: 0.7491 - val_accuracy: 0.8519 - val_loss: 0.6445\n",
      "Epoch 9/30\n",
      "\u001b[1m4/4\u001b[0m \u001b[32m━━━━━━━━━━━━━━━━━━━━\u001b[0m\u001b[37m\u001b[0m \u001b[1m50s\u001b[0m 12s/step - accuracy: 0.7335 - loss: 0.6598 - val_accuracy: 0.8519 - val_loss: 0.6235\n",
      "Epoch 10/30\n",
      "\u001b[1m4/4\u001b[0m \u001b[32m━━━━━━━━━━━━━━━━━━━━\u001b[0m\u001b[37m\u001b[0m \u001b[1m50s\u001b[0m 12s/step - accuracy: 0.7570 - loss: 0.6604 - val_accuracy: 0.8519 - val_loss: 0.6099\n",
      "Epoch 11/30\n",
      "\u001b[1m4/4\u001b[0m \u001b[32m━━━━━━━━━━━━━━━━━━━━\u001b[0m\u001b[37m\u001b[0m \u001b[1m55s\u001b[0m 14s/step - accuracy: 0.7224 - loss: 0.6319 - val_accuracy: 0.8519 - val_loss: 0.5879\n",
      "Epoch 12/30\n",
      "\u001b[1m4/4\u001b[0m \u001b[32m━━━━━━━━━━━━━━━━━━━━\u001b[0m\u001b[37m\u001b[0m \u001b[1m50s\u001b[0m 13s/step - accuracy: 0.7770 - loss: 0.6052 - val_accuracy: 0.8148 - val_loss: 0.5735\n",
      "Epoch 13/30\n",
      "\u001b[1m4/4\u001b[0m \u001b[32m━━━━━━━━━━━━━━━━━━━━\u001b[0m\u001b[37m\u001b[0m \u001b[1m59s\u001b[0m 15s/step - accuracy: 0.7979 - loss: 0.5834 - val_accuracy: 0.8519 - val_loss: 0.5520\n",
      "Epoch 14/30\n",
      "\u001b[1m4/4\u001b[0m \u001b[32m━━━━━━━━━━━━━━━━━━━━\u001b[0m\u001b[37m\u001b[0m \u001b[1m59s\u001b[0m 15s/step - accuracy: 0.8223 - loss: 0.5782 - val_accuracy: 0.8889 - val_loss: 0.5564\n",
      "Epoch 15/30\n",
      "\u001b[1m4/4\u001b[0m \u001b[32m━━━━━━━━━━━━━━━━━━━━\u001b[0m\u001b[37m\u001b[0m \u001b[1m56s\u001b[0m 14s/step - accuracy: 0.8167 - loss: 0.5644 - val_accuracy: 0.8148 - val_loss: 0.5291\n",
      "Epoch 16/30\n",
      "\u001b[1m4/4\u001b[0m \u001b[32m━━━━━━━━━━━━━━━━━━━━\u001b[0m\u001b[37m\u001b[0m \u001b[1m57s\u001b[0m 14s/step - accuracy: 0.7782 - loss: 0.5471 - val_accuracy: 0.8519 - val_loss: 0.5282\n",
      "Epoch 17/30\n",
      "\u001b[1m4/4\u001b[0m \u001b[32m━━━━━━━━━━━━━━━━━━━━\u001b[0m\u001b[37m\u001b[0m \u001b[1m53s\u001b[0m 13s/step - accuracy: 0.8782 - loss: 0.4606 - val_accuracy: 0.8148 - val_loss: 0.5015\n",
      "Epoch 18/30\n",
      "\u001b[1m4/4\u001b[0m \u001b[32m━━━━━━━━━━━━━━━━━━━━\u001b[0m\u001b[37m\u001b[0m \u001b[1m50s\u001b[0m 13s/step - accuracy: 0.8762 - loss: 0.4696 - val_accuracy: 0.8519 - val_loss: 0.4994\n",
      "Epoch 19/30\n",
      "\u001b[1m4/4\u001b[0m \u001b[32m━━━━━━━━━━━━━━━━━━━━\u001b[0m\u001b[37m\u001b[0m \u001b[1m49s\u001b[0m 12s/step - accuracy: 0.8530 - loss: 0.4591 - val_accuracy: 0.8519 - val_loss: 0.5011\n",
      "Epoch 20/30\n",
      "\u001b[1m4/4\u001b[0m \u001b[32m━━━━━━━━━━━━━━━━━━━━\u001b[0m\u001b[37m\u001b[0m \u001b[1m52s\u001b[0m 13s/step - accuracy: 0.9480 - loss: 0.3617 - val_accuracy: 0.8148 - val_loss: 0.5573\n",
      "Epoch 21/30\n",
      "\u001b[1m4/4\u001b[0m \u001b[32m━━━━━━━━━━━━━━━━━━━━\u001b[0m\u001b[37m\u001b[0m \u001b[1m57s\u001b[0m 15s/step - accuracy: 0.9041 - loss: 0.3906 - val_accuracy: 0.8519 - val_loss: 0.5249\n",
      "Epoch 22/30\n",
      "\u001b[1m4/4\u001b[0m \u001b[32m━━━━━━━━━━━━━━━━━━━━\u001b[0m\u001b[37m\u001b[0m \u001b[1m63s\u001b[0m 16s/step - accuracy: 0.9213 - loss: 0.3477 - val_accuracy: 0.8148 - val_loss: 0.5952\n",
      "Epoch 23/30\n",
      "\u001b[1m4/4\u001b[0m \u001b[32m━━━━━━━━━━━━━━━━━━━━\u001b[0m\u001b[37m\u001b[0m \u001b[1m70s\u001b[0m 17s/step - accuracy: 0.8472 - loss: 0.4143 - val_accuracy: 0.8519 - val_loss: 0.5589\n",
      "\u001b[1m1/1\u001b[0m \u001b[32m━━━━━━━━━━━━━━━━━━━━\u001b[0m\u001b[37m\u001b[0m \u001b[1m5s\u001b[0m 5s/step - accuracy: 0.7778 - loss: 0.5376\n",
      "Test Accuracy after further fine-tuning: 77.78%\n",
      "Test Loss after further fine-tuning: 0.5376\n"
     ]
    }
   ],
   "source": [
    "from tensorflow.keras.regularizers import l2\n",
    "from tensorflow.keras.optimizers import Adam\n",
    "from tensorflow.keras.callbacks import EarlyStopping\n",
    "\n",
    "# Modify the model by reverting to a higher dropout and lowering L2 regularization\n",
    "vgg_model = VGG16(weights='imagenet', include_top=False, input_shape=(128, 128, 3))\n",
    "\n",
    "# Unfreeze more layers for fine-tuning\n",
    "for layer in vgg_model.layers[-10:]:\n",
    "    layer.trainable = True\n",
    "\n",
    "# Add new custom layers with higher dropout and reduced L2 regularization\n",
    "vgg_model = models.Sequential([\n",
    "    vgg_model,\n",
    "    layers.Flatten(),\n",
    "    layers.Dense(128, activation='relu', kernel_regularizer=l2(0.0005)),  # Reduced L2 regularization\n",
    "    layers.Dropout(0.5),  # Restore dropout rate to 0.5\n",
    "    layers.Dense(1, activation='sigmoid')\n",
    "])\n",
    "\n",
    "# Compile with a slightly higher learning rate\n",
    "vgg_model.compile(optimizer=Adam(learning_rate=0.00001),  # Slightly higher learning rate\n",
    "                  loss='binary_crossentropy',\n",
    "                  metrics=['accuracy'])\n",
    "\n",
    "# Set up early stopping\n",
    "early_stopping = EarlyStopping(monitor='val_loss', patience=5, restore_best_weights=True)\n",
    "\n",
    "# Train the fine-tuned VGG16 model\n",
    "history_vgg_finetune = vgg_model.fit(\n",
    "    datagen.flow(train_data, train_labels, batch_size=32),  # Reduce batch size back to 32\n",
    "    epochs=30,\n",
    "    validation_data=(val_data, val_labels),\n",
    "    callbacks=[early_stopping]\n",
    ")\n",
    "\n",
    "# Evaluate the model on the test set\n",
    "test_loss_vgg, test_accuracy_vgg = vgg_model.evaluate(test_data, test_labels)\n",
    "print(f\"Test Accuracy after further fine-tuning: {test_accuracy_vgg * 100:.2f}%\")\n",
    "print(f\"Test Loss after further fine-tuning: {test_loss_vgg:.4f}\")\n"
   ]
  },
  {
   "cell_type": "code",
   "execution_count": 52,
   "id": "5dcff126",
   "metadata": {},
   "outputs": [
    {
     "name": "stdout",
     "output_type": "stream",
     "text": [
      "WARNING:tensorflow:5 out of the last 5 calls to <function TensorFlowTrainer.make_predict_function.<locals>.one_step_on_data_distributed at 0x0000028AC8278A40> triggered tf.function retracing. Tracing is expensive and the excessive number of tracings could be due to (1) creating @tf.function repeatedly in a loop, (2) passing tensors with different shapes, (3) passing Python objects instead of tensors. For (1), please define your @tf.function outside of the loop. For (2), @tf.function has reduce_retracing=True option that can avoid unnecessary retracing. For (3), please refer to https://www.tensorflow.org/guide/function#controlling_retracing and https://www.tensorflow.org/api_docs/python/tf/function for  more details.\n"
     ]
    },
    {
     "name": "stderr",
     "output_type": "stream",
     "text": [
      "WARNING:tensorflow:5 out of the last 5 calls to <function TensorFlowTrainer.make_predict_function.<locals>.one_step_on_data_distributed at 0x0000028AC8278A40> triggered tf.function retracing. Tracing is expensive and the excessive number of tracings could be due to (1) creating @tf.function repeatedly in a loop, (2) passing tensors with different shapes, (3) passing Python objects instead of tensors. For (1), please define your @tf.function outside of the loop. For (2), @tf.function has reduce_retracing=True option that can avoid unnecessary retracing. For (3), please refer to https://www.tensorflow.org/guide/function#controlling_retracing and https://www.tensorflow.org/api_docs/python/tf/function for  more details.\n"
     ]
    },
    {
     "name": "stdout",
     "output_type": "stream",
     "text": [
      "\u001b[1m1/1\u001b[0m \u001b[32m━━━━━━━━━━━━━━━━━━━━\u001b[0m\u001b[37m\u001b[0m \u001b[1m2s\u001b[0m 2s/step\n",
      "              precision    recall  f1-score   support\n",
      "\n",
      "           0       0.86      0.86      0.86        14\n",
      "           1       0.85      0.85      0.85        13\n",
      "\n",
      "    accuracy                           0.85        27\n",
      "   macro avg       0.85      0.85      0.85        27\n",
      "weighted avg       0.85      0.85      0.85        27\n",
      "\n",
      "[[12  2]\n",
      " [ 2 11]]\n"
     ]
    }
   ],
   "source": [
    "# Adjust the threshold for tumor detection\n",
    "predictions = vgg_model.predict(test_data)\n",
    "threshold = 0.3  # Lower threshold for favoring recall\n",
    "adjusted_predictions = (predictions > threshold).astype(int)\n",
    "\n",
    "# Evaluate recall, precision, and other metrics\n",
    "from sklearn.metrics import classification_report, confusion_matrix\n",
    "\n",
    "print(classification_report(test_labels, adjusted_predictions))\n",
    "print(confusion_matrix(test_labels, adjusted_predictions))\n",
    "\n"
   ]
  },
  {
   "cell_type": "code",
   "execution_count": 53,
   "id": "56f42282",
   "metadata": {},
   "outputs": [
    {
     "name": "stdout",
     "output_type": "stream",
     "text": [
      "Collecting focal-loss\n",
      "  Obtaining dependency information for focal-loss from https://files.pythonhosted.org/packages/3a/a1/e362a8b955a417a6b37ae31088ecc3ad0fc31b50265c0924a969487eacf6/focal_loss-0.0.7-py3-none-any.whl.metadata\n",
      "  Downloading focal_loss-0.0.7-py3-none-any.whl.metadata (5.1 kB)\n",
      "Requirement already satisfied: tensorflow>=2.2 in c:\\users\\luke holmes\\anaconda3\\lib\\site-packages (from focal-loss) (2.16.1)\n",
      "Requirement already satisfied: tensorflow-intel==2.16.1 in c:\\users\\luke holmes\\anaconda3\\lib\\site-packages (from tensorflow>=2.2->focal-loss) (2.16.1)\n",
      "Requirement already satisfied: absl-py>=1.0.0 in c:\\users\\luke holmes\\anaconda3\\lib\\site-packages (from tensorflow-intel==2.16.1->tensorflow>=2.2->focal-loss) (2.1.0)\n",
      "Requirement already satisfied: astunparse>=1.6.0 in c:\\users\\luke holmes\\anaconda3\\lib\\site-packages (from tensorflow-intel==2.16.1->tensorflow>=2.2->focal-loss) (1.6.3)\n",
      "Requirement already satisfied: flatbuffers>=23.5.26 in c:\\users\\luke holmes\\anaconda3\\lib\\site-packages (from tensorflow-intel==2.16.1->tensorflow>=2.2->focal-loss) (24.3.25)\n",
      "Requirement already satisfied: gast!=0.5.0,!=0.5.1,!=0.5.2,>=0.2.1 in c:\\users\\luke holmes\\anaconda3\\lib\\site-packages (from tensorflow-intel==2.16.1->tensorflow>=2.2->focal-loss) (0.5.4)\n",
      "Requirement already satisfied: google-pasta>=0.1.1 in c:\\users\\luke holmes\\anaconda3\\lib\\site-packages (from tensorflow-intel==2.16.1->tensorflow>=2.2->focal-loss) (0.2.0)\n",
      "Requirement already satisfied: h5py>=3.10.0 in c:\\users\\luke holmes\\anaconda3\\lib\\site-packages (from tensorflow-intel==2.16.1->tensorflow>=2.2->focal-loss) (3.11.0)\n",
      "Requirement already satisfied: libclang>=13.0.0 in c:\\users\\luke holmes\\anaconda3\\lib\\site-packages (from tensorflow-intel==2.16.1->tensorflow>=2.2->focal-loss) (18.1.1)\n",
      "Requirement already satisfied: ml-dtypes~=0.3.1 in c:\\users\\luke holmes\\anaconda3\\lib\\site-packages (from tensorflow-intel==2.16.1->tensorflow>=2.2->focal-loss) (0.3.2)\n",
      "Requirement already satisfied: opt-einsum>=2.3.2 in c:\\users\\luke holmes\\anaconda3\\lib\\site-packages (from tensorflow-intel==2.16.1->tensorflow>=2.2->focal-loss) (3.3.0)\n",
      "Requirement already satisfied: packaging in c:\\users\\luke holmes\\anaconda3\\lib\\site-packages (from tensorflow-intel==2.16.1->tensorflow>=2.2->focal-loss) (23.0)\n",
      "Requirement already satisfied: protobuf!=4.21.0,!=4.21.1,!=4.21.2,!=4.21.3,!=4.21.4,!=4.21.5,<5.0.0dev,>=3.20.3 in c:\\users\\luke holmes\\anaconda3\\lib\\site-packages (from tensorflow-intel==2.16.1->tensorflow>=2.2->focal-loss) (4.25.3)\n",
      "Requirement already satisfied: requests<3,>=2.21.0 in c:\\users\\luke holmes\\anaconda3\\lib\\site-packages (from tensorflow-intel==2.16.1->tensorflow>=2.2->focal-loss) (2.31.0)\n",
      "Requirement already satisfied: setuptools in c:\\users\\luke holmes\\anaconda3\\lib\\site-packages (from tensorflow-intel==2.16.1->tensorflow>=2.2->focal-loss) (68.0.0)\n",
      "Requirement already satisfied: six>=1.12.0 in c:\\users\\luke holmes\\anaconda3\\lib\\site-packages (from tensorflow-intel==2.16.1->tensorflow>=2.2->focal-loss) (1.16.0)\n",
      "Requirement already satisfied: termcolor>=1.1.0 in c:\\users\\luke holmes\\anaconda3\\lib\\site-packages (from tensorflow-intel==2.16.1->tensorflow>=2.2->focal-loss) (2.4.0)\n",
      "Requirement already satisfied: typing-extensions>=3.6.6 in c:\\users\\luke holmes\\anaconda3\\lib\\site-packages (from tensorflow-intel==2.16.1->tensorflow>=2.2->focal-loss) (4.7.1)\n",
      "Requirement already satisfied: wrapt>=1.11.0 in c:\\users\\luke holmes\\anaconda3\\lib\\site-packages (from tensorflow-intel==2.16.1->tensorflow>=2.2->focal-loss) (1.14.1)\n",
      "Requirement already satisfied: grpcio<2.0,>=1.24.3 in c:\\users\\luke holmes\\anaconda3\\lib\\site-packages (from tensorflow-intel==2.16.1->tensorflow>=2.2->focal-loss) (1.62.2)\n",
      "Requirement already satisfied: tensorboard<2.17,>=2.16 in c:\\users\\luke holmes\\anaconda3\\lib\\site-packages (from tensorflow-intel==2.16.1->tensorflow>=2.2->focal-loss) (2.16.2)\n",
      "Requirement already satisfied: keras>=3.0.0 in c:\\users\\luke holmes\\anaconda3\\lib\\site-packages (from tensorflow-intel==2.16.1->tensorflow>=2.2->focal-loss) (3.3.3)\n",
      "Requirement already satisfied: tensorflow-io-gcs-filesystem>=0.23.1 in c:\\users\\luke holmes\\anaconda3\\lib\\site-packages (from tensorflow-intel==2.16.1->tensorflow>=2.2->focal-loss) (0.31.0)\n",
      "Requirement already satisfied: numpy<2.0.0,>=1.23.5 in c:\\users\\luke holmes\\anaconda3\\lib\\site-packages (from tensorflow-intel==2.16.1->tensorflow>=2.2->focal-loss) (1.24.4)\n",
      "Requirement already satisfied: wheel<1.0,>=0.23.0 in c:\\users\\luke holmes\\anaconda3\\lib\\site-packages (from astunparse>=1.6.0->tensorflow-intel==2.16.1->tensorflow>=2.2->focal-loss) (0.38.4)\n",
      "Requirement already satisfied: rich in c:\\users\\luke holmes\\anaconda3\\lib\\site-packages (from keras>=3.0.0->tensorflow-intel==2.16.1->tensorflow>=2.2->focal-loss) (13.7.1)\n",
      "Requirement already satisfied: namex in c:\\users\\luke holmes\\anaconda3\\lib\\site-packages (from keras>=3.0.0->tensorflow-intel==2.16.1->tensorflow>=2.2->focal-loss) (0.0.8)\n",
      "Requirement already satisfied: optree in c:\\users\\luke holmes\\anaconda3\\lib\\site-packages (from keras>=3.0.0->tensorflow-intel==2.16.1->tensorflow>=2.2->focal-loss) (0.11.0)\n",
      "Requirement already satisfied: charset-normalizer<4,>=2 in c:\\users\\luke holmes\\anaconda3\\lib\\site-packages (from requests<3,>=2.21.0->tensorflow-intel==2.16.1->tensorflow>=2.2->focal-loss) (2.0.4)\n",
      "Requirement already satisfied: idna<4,>=2.5 in c:\\users\\luke holmes\\anaconda3\\lib\\site-packages (from requests<3,>=2.21.0->tensorflow-intel==2.16.1->tensorflow>=2.2->focal-loss) (3.4)\n",
      "Requirement already satisfied: urllib3<3,>=1.21.1 in c:\\users\\luke holmes\\anaconda3\\lib\\site-packages (from requests<3,>=2.21.0->tensorflow-intel==2.16.1->tensorflow>=2.2->focal-loss) (1.26.16)\n",
      "Requirement already satisfied: certifi>=2017.4.17 in c:\\users\\luke holmes\\anaconda3\\lib\\site-packages (from requests<3,>=2.21.0->tensorflow-intel==2.16.1->tensorflow>=2.2->focal-loss) (2023.7.22)\n",
      "Requirement already satisfied: markdown>=2.6.8 in c:\\users\\luke holmes\\anaconda3\\lib\\site-packages (from tensorboard<2.17,>=2.16->tensorflow-intel==2.16.1->tensorflow>=2.2->focal-loss) (3.4.1)\n",
      "Requirement already satisfied: tensorboard-data-server<0.8.0,>=0.7.0 in c:\\users\\luke holmes\\anaconda3\\lib\\site-packages (from tensorboard<2.17,>=2.16->tensorflow-intel==2.16.1->tensorflow>=2.2->focal-loss) (0.7.2)\n",
      "Requirement already satisfied: werkzeug>=1.0.1 in c:\\users\\luke holmes\\anaconda3\\lib\\site-packages (from tensorboard<2.17,>=2.16->tensorflow-intel==2.16.1->tensorflow>=2.2->focal-loss) (2.2.3)\n",
      "Requirement already satisfied: MarkupSafe>=2.1.1 in c:\\users\\luke holmes\\anaconda3\\lib\\site-packages (from werkzeug>=1.0.1->tensorboard<2.17,>=2.16->tensorflow-intel==2.16.1->tensorflow>=2.2->focal-loss) (2.1.1)\n",
      "Requirement already satisfied: markdown-it-py>=2.2.0 in c:\\users\\luke holmes\\anaconda3\\lib\\site-packages (from rich->keras>=3.0.0->tensorflow-intel==2.16.1->tensorflow>=2.2->focal-loss) (2.2.0)\n",
      "Requirement already satisfied: pygments<3.0.0,>=2.13.0 in c:\\users\\luke holmes\\anaconda3\\lib\\site-packages (from rich->keras>=3.0.0->tensorflow-intel==2.16.1->tensorflow>=2.2->focal-loss) (2.15.1)\n",
      "Requirement already satisfied: mdurl~=0.1 in c:\\users\\luke holmes\\anaconda3\\lib\\site-packages (from markdown-it-py>=2.2.0->rich->keras>=3.0.0->tensorflow-intel==2.16.1->tensorflow>=2.2->focal-loss) (0.1.0)\n",
      "Downloading focal_loss-0.0.7-py3-none-any.whl (19 kB)\n",
      "Installing collected packages: focal-loss\n",
      "Successfully installed focal-loss-0.0.7\n"
     ]
    }
   ],
   "source": [
    "# Install if necessary\n",
    "!pip install focal-loss\n",
    "\n"
   ]
  },
  {
   "cell_type": "code",
   "execution_count": 54,
   "id": "f28a81cf",
   "metadata": {},
   "outputs": [],
   "source": [
    "from focal_loss import BinaryFocalLoss\n",
    "\n",
    "# Compile the model with Focal Loss\n",
    "vgg_model.compile(\n",
    "    optimizer=Adam(learning_rate=0.00001),\n",
    "    loss=BinaryFocalLoss(gamma=2),  # Use Focal Loss\n",
    "    metrics=['accuracy']\n",
    ")\n"
   ]
  },
  {
   "cell_type": "code",
   "execution_count": 55,
   "id": "b7a3730a",
   "metadata": {},
   "outputs": [
    {
     "name": "stdout",
     "output_type": "stream",
     "text": [
      "WARNING:tensorflow:6 out of the last 6 calls to <function TensorFlowTrainer.make_predict_function.<locals>.one_step_on_data_distributed at 0x0000028AC825F420> triggered tf.function retracing. Tracing is expensive and the excessive number of tracings could be due to (1) creating @tf.function repeatedly in a loop, (2) passing tensors with different shapes, (3) passing Python objects instead of tensors. For (1), please define your @tf.function outside of the loop. For (2), @tf.function has reduce_retracing=True option that can avoid unnecessary retracing. For (3), please refer to https://www.tensorflow.org/guide/function#controlling_retracing and https://www.tensorflow.org/api_docs/python/tf/function for  more details.\n"
     ]
    },
    {
     "name": "stderr",
     "output_type": "stream",
     "text": [
      "WARNING:tensorflow:6 out of the last 6 calls to <function TensorFlowTrainer.make_predict_function.<locals>.one_step_on_data_distributed at 0x0000028AC825F420> triggered tf.function retracing. Tracing is expensive and the excessive number of tracings could be due to (1) creating @tf.function repeatedly in a loop, (2) passing tensors with different shapes, (3) passing Python objects instead of tensors. For (1), please define your @tf.function outside of the loop. For (2), @tf.function has reduce_retracing=True option that can avoid unnecessary retracing. For (3), please refer to https://www.tensorflow.org/guide/function#controlling_retracing and https://www.tensorflow.org/api_docs/python/tf/function for  more details.\n"
     ]
    },
    {
     "name": "stdout",
     "output_type": "stream",
     "text": [
      "\u001b[1m1/1\u001b[0m \u001b[32m━━━━━━━━━━━━━━━━━━━━\u001b[0m\u001b[37m\u001b[0m \u001b[1m5s\u001b[0m 5s/step\n"
     ]
    }
   ],
   "source": [
    "# Get predictions on the test set\n",
    "test_predictions = vgg_model.predict(test_data)\n",
    "\n",
    "# Adjust the threshold if needed (for example, using 0.5 as the default)\n",
    "threshold = 0.5\n",
    "adjusted_test_predictions = (test_predictions > threshold).astype(int)\n"
   ]
  },
  {
   "cell_type": "code",
   "execution_count": 56,
   "id": "e4d10055",
   "metadata": {},
   "outputs": [
    {
     "name": "stdout",
     "output_type": "stream",
     "text": [
      "              precision    recall  f1-score   support\n",
      "\n",
      "           0       0.72      0.93      0.81        14\n",
      "           1       0.89      0.62      0.73        13\n",
      "\n",
      "    accuracy                           0.78        27\n",
      "   macro avg       0.81      0.77      0.77        27\n",
      "weighted avg       0.80      0.78      0.77        27\n",
      "\n",
      "[[13  1]\n",
      " [ 5  8]]\n"
     ]
    }
   ],
   "source": [
    "from sklearn.metrics import classification_report, confusion_matrix\n",
    "\n",
    "# Generate the classification report\n",
    "print(classification_report(test_labels, adjusted_test_predictions))\n",
    "\n",
    "# Optionally, print the confusion matrix to get detailed insights\n",
    "print(confusion_matrix(test_labels, adjusted_test_predictions))\n"
   ]
  },
  {
   "cell_type": "code",
   "execution_count": 58,
   "id": "65db1151",
   "metadata": {},
   "outputs": [
    {
     "name": "stderr",
     "output_type": "stream",
     "text": [
      "WARNING:absl:You are saving your model as an HDF5 file via `model.save()` or `keras.saving.save_model(model)`. This file format is considered legacy. We recommend using instead the native Keras format, e.g. `model.save('my_model.keras')` or `keras.saving.save_model(model, 'my_model.keras')`. \n"
     ]
    }
   ],
   "source": [
    "vgg_model.save('best_vgg16_model.h5')\n"
   ]
  },
  {
   "cell_type": "code",
   "execution_count": null,
   "id": "0ac58b5b",
   "metadata": {},
   "outputs": [],
   "source": []
  }
 ],
 "metadata": {
  "kernelspec": {
   "display_name": "Python 3 (ipykernel)",
   "language": "python",
   "name": "python3"
  },
  "language_info": {
   "codemirror_mode": {
    "name": "ipython",
    "version": 3
   },
   "file_extension": ".py",
   "mimetype": "text/x-python",
   "name": "python",
   "nbconvert_exporter": "python",
   "pygments_lexer": "ipython3",
   "version": "3.11.4"
  }
 },
 "nbformat": 4,
 "nbformat_minor": 5
}
